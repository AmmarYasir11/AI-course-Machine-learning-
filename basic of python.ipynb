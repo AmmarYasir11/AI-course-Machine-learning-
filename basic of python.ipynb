{
 "cells": [
  {
   "metadata": {
    "ExecuteTime": {
     "end_time": "2025-09-10T12:47:35.648422Z",
     "start_time": "2025-09-10T12:47:35.644107Z"
    }
   },
   "cell_type": "code",
   "source": "print(\"Ammar yasir\")",
   "id": "56f46dceb2a4a636",
   "outputs": [
    {
     "name": "stdout",
     "output_type": "stream",
     "text": [
      "Ammar yasir\n"
     ]
    }
   ],
   "execution_count": 15
  },
  {
   "metadata": {
    "ExecuteTime": {
     "end_time": "2025-09-10T12:47:33.553329Z",
     "start_time": "2025-09-10T12:47:33.548168Z"
    }
   },
   "cell_type": "code",
   "source": "print(\"Hello\")",
   "id": "465a4188ce735b91",
   "outputs": [
    {
     "name": "stdout",
     "output_type": "stream",
     "text": [
      "Hello\n"
     ]
    }
   ],
   "execution_count": 14
  },
  {
   "metadata": {
    "ExecuteTime": {
     "end_time": "2025-09-10T12:53:23.482191Z",
     "start_time": "2025-09-10T12:53:16.875263Z"
    }
   },
   "cell_type": "code",
   "source": [
    "a=str(input(\"enter your first name\"))\n",
    "b=str(input(\"enter your second name\"))\n",
    "c=a+b\n",
    "print(\"your full name is \",c)"
   ],
   "id": "bb55579982155ee2",
   "outputs": [
    {
     "name": "stdout",
     "output_type": "stream",
     "text": [
      "your full name is  ammaryasir\n"
     ]
    }
   ],
   "execution_count": 22
  },
  {
   "metadata": {
    "ExecuteTime": {
     "end_time": "2025-09-10T12:55:20.078322Z",
     "start_time": "2025-09-10T12:55:20.075198Z"
    }
   },
   "cell_type": "code",
   "source": [
    "for i in range(1,6):\n",
    "    print(i)"
   ],
   "id": "12e4792d64a14997",
   "outputs": [
    {
     "name": "stdout",
     "output_type": "stream",
     "text": [
      "1\n",
      "2\n",
      "3\n",
      "4\n",
      "5\n"
     ]
    }
   ],
   "execution_count": 26
  },
  {
   "metadata": {
    "ExecuteTime": {
     "end_time": "2025-09-10T12:56:10.173052Z",
     "start_time": "2025-09-10T12:56:10.169408Z"
    }
   },
   "cell_type": "code",
   "source": [
    "for i in reversed(range(1,6)):\n",
    "    print(i)"
   ],
   "id": "2ea8e1ccd1ba7969",
   "outputs": [
    {
     "name": "stdout",
     "output_type": "stream",
     "text": [
      "5\n",
      "4\n",
      "3\n",
      "2\n",
      "1\n"
     ]
    }
   ],
   "execution_count": 27
  },
  {
   "metadata": {
    "ExecuteTime": {
     "end_time": "2025-09-10T12:56:43.822380Z",
     "start_time": "2025-09-10T12:56:43.819356Z"
    }
   },
   "cell_type": "code",
   "source": [
    "for i in range(1,6,2):\n",
    "    print(i)"
   ],
   "id": "96288da41168bb80",
   "outputs": [
    {
     "name": "stdout",
     "output_type": "stream",
     "text": [
      "1\n",
      "3\n",
      "5\n"
     ]
    }
   ],
   "execution_count": 29
  },
  {
   "metadata": {
    "ExecuteTime": {
     "end_time": "2025-09-10T13:08:58.706570Z",
     "start_time": "2025-09-10T13:08:51.458507Z"
    }
   },
   "cell_type": "code",
   "source": [
    "rows = int(input(\"Enter rows: \"))\n",
    "cols = int(input(\"Enter cols: \"))\n",
    "symbol = input(\"Enter symbol: \")\n",
    "\n",
    "for i in range(rows):\n",
    "    for j in range(cols):\n",
    "        print(symbol, end=\" \")\n",
    "    print()  # to move to the next line after each row\n"
   ],
   "id": "54783e89fbf4aec2",
   "outputs": [
    {
     "name": "stdout",
     "output_type": "stream",
     "text": [
      "* * * * * * \n",
      "* * * * * * \n",
      "* * * * * * \n",
      "* * * * * * \n",
      "* * * * * * \n",
      "* * * * * * \n"
     ]
    }
   ],
   "execution_count": 36
  },
  {
   "metadata": {
    "ExecuteTime": {
     "end_time": "2025-09-10T13:14:32.657533Z",
     "start_time": "2025-09-10T13:14:29.307630Z"
    }
   },
   "cell_type": "code",
   "source": [
    "age=int(input(\"Enter age: \"))\n",
    "if age<15:\n",
    "    print(\"age is less than 15\")\n",
    "else:\n",
    "    print(\"age is greater than 15\")"
   ],
   "id": "14fe713fe6d63e",
   "outputs": [
    {
     "name": "stdout",
     "output_type": "stream",
     "text": [
      "age is greater than 15\n"
     ]
    }
   ],
   "execution_count": 49
  },
  {
   "metadata": {
    "ExecuteTime": {
     "end_time": "2025-09-15T12:47:19.329901200Z",
     "start_time": "2025-09-10T13:29:12.842923Z"
    }
   },
   "cell_type": "code",
   "source": [
    "hours=int(input(\"Enter hours: \"))\n",
    "if hours <8:\n",
    "    print(\"good morning\")\n",
    "elif hours < 12:\n",
    "    print(\"good afternoon\")\n",
    "elif hours < 15:\n",
    "    print(\"lumnch time\")\n",
    "elif hours < 18:\n",
    "    print(\"good evening\")\n",
    "else:\n",
    "    print(\"good night\")\n",
    "\n"
   ],
   "id": "63ee0532b3ac12f7",
   "outputs": [
    {
     "name": "stdout",
     "output_type": "stream",
     "text": [
      "good night\n"
     ]
    }
   ],
   "execution_count": 64
  },
  {
   "metadata": {
    "ExecuteTime": {
     "end_time": "2025-09-15T12:50:11.093959Z",
     "start_time": "2025-09-15T12:50:08.449189Z"
    }
   },
   "cell_type": "code",
   "source": [
    "\n",
    "rows =int(input(\"Enter rows: \"))\n",
    "columns=int(input(\"Enter columns: \"))\n",
    "for i in range(rows):           # Outer loop for each row\n",
    "    for j in range(columns):      # Inner loop for stars in each row\n",
    "        print(\"*\", end=\" \")\n",
    "    print()\n"
   ],
   "id": "e838153990ffb430",
   "outputs": [
    {
     "name": "stdout",
     "output_type": "stream",
     "text": [
      "* * * * * * \n",
      "* * * * * * \n",
      "* * * * * * \n",
      "* * * * * * \n",
      "* * * * * * \n",
      "* * * * * * \n"
     ]
    }
   ],
   "execution_count": 7
  },
  {
   "metadata": {
    "ExecuteTime": {
     "end_time": "2025-09-15T12:48:58.929599Z",
     "start_time": "2025-09-15T12:48:55.426236Z"
    }
   },
   "cell_type": "code",
   "source": [
    "rows =int(input(\"Enter rows: \"))\n",
    "for i in range(rows):          \n",
    "    for j in range(i+1):\n",
    "        print(\"*\", end=\" \")\n",
    "    print()\n"
   ],
   "id": "56e8e6709fe9fd71",
   "outputs": [
    {
     "name": "stdout",
     "output_type": "stream",
     "text": [
      "* \n",
      "* * \n",
      "* * * \n",
      "* * * * \n",
      "* * * * * \n",
      "* * * * * * \n"
     ]
    }
   ],
   "execution_count": 4
  },
  {
   "metadata": {
    "ExecuteTime": {
     "end_time": "2025-09-15T12:52:05.036966Z",
     "start_time": "2025-09-15T12:52:02.596718Z"
    }
   },
   "cell_type": "code",
   "source": [
    "rows =int(input(\"Enter rows: \"))\n",
    "for i in range(rows):\n",
    "    for j in range(rows-i):\n",
    "        print(\"*\", end=\" \")\n",
    "    print()\n"
   ],
   "id": "1033f1ac2b8fcc32",
   "outputs": [
    {
     "name": "stdout",
     "output_type": "stream",
     "text": [
      "* * * * * * \n",
      "* * * * * \n",
      "* * * * \n",
      "* * * \n",
      "* * \n",
      "* \n"
     ]
    }
   ],
   "execution_count": 14
  },
  {
   "metadata": {},
   "cell_type": "code",
   "outputs": [],
   "execution_count": null,
   "source": [
    "rows =int(input(\"Enter rows: \"))\n",
    "columns=int(input(\"Enter columns: \"))\n",
    "for i in range(rows):\n",
    "    for j in range(i+1):\n",
    "        print(\"*\", end=\" \")\n",
    "    print()\n"
   ],
   "id": "aa94d19e78a5760a"
  },
  {
   "metadata": {
    "ExecuteTime": {
     "end_time": "2025-09-24T13:36:57.042729Z",
     "start_time": "2025-09-24T13:36:57.013481Z"
    }
   },
   "cell_type": "code",
   "source": [
    "marks = {\n",
    "    \"ali\": 92,\n",
    "    \"sara\": 51,\n",
    "    \"omer\": 67,\n",
    "    \"fatima\": 10\n",
    "}\n",
    "\n",
    "def find_highest_and_lowest(marks_dict):\n",
    "    highest_name, highest_score = students[0]\n",
    "    lowest_name, lowest_score = students[0]\n",
    "\n",
    "    for name, score in marks_dict.items():\n",
    "        if score > highest_score:\n",
    "            highest_name, highest_score = name, score\n",
    "        if score < lowest_score:\n",
    "            lowest_name, lowest_score = name, score\n",
    "\n",
    "    return {\n",
    "        \"highest\": {highest_name: highest_score},\n",
    "        \"lowest\": {lowest_name: lowest_score}\n",
    "    }\n",
    "\n",
    "\n",
    "print(\"Highest:\", result[\"highest\"])\n",
    "print(\"Lowest:\", result[\"lowest\"])\n"
   ],
   "id": "8d87e35514e54efe",
   "outputs": [
    {
     "ename": "NameError",
     "evalue": "name 'result' is not defined",
     "output_type": "error",
     "traceback": [
      "\u001B[31m---------------------------------------------------------------------------\u001B[39m",
      "\u001B[31mNameError\u001B[39m                                 Traceback (most recent call last)",
      "\u001B[36mCell\u001B[39m\u001B[36m \u001B[39m\u001B[32mIn[20]\u001B[39m\u001B[32m, line 24\u001B[39m\n\u001B[32m     16\u001B[39m             lowest_name, lowest_score = name, score\n\u001B[32m     18\u001B[39m     \u001B[38;5;28;01mreturn\u001B[39;00m {\n\u001B[32m     19\u001B[39m         \u001B[33m\"\u001B[39m\u001B[33mhighest\u001B[39m\u001B[33m\"\u001B[39m: {highest_name: highest_score},\n\u001B[32m     20\u001B[39m         \u001B[33m\"\u001B[39m\u001B[33mlowest\u001B[39m\u001B[33m\"\u001B[39m: {lowest_name: lowest_score}\n\u001B[32m     21\u001B[39m     }\n\u001B[32m---> \u001B[39m\u001B[32m24\u001B[39m \u001B[38;5;28mprint\u001B[39m(\u001B[33m\"\u001B[39m\u001B[33mHighest:\u001B[39m\u001B[33m\"\u001B[39m, \u001B[43mresult\u001B[49m[\u001B[33m\"\u001B[39m\u001B[33mhighest\u001B[39m\u001B[33m\"\u001B[39m])\n\u001B[32m     25\u001B[39m \u001B[38;5;28mprint\u001B[39m(\u001B[33m\"\u001B[39m\u001B[33mLowest:\u001B[39m\u001B[33m\"\u001B[39m, result[\u001B[33m\"\u001B[39m\u001B[33mlowest\u001B[39m\u001B[33m\"\u001B[39m])\n",
      "\u001B[31mNameError\u001B[39m: name 'result' is not defined"
     ]
    }
   ],
   "execution_count": 20
  },
  {
   "metadata": {
    "ExecuteTime": {
     "end_time": "2025-09-19T14:15:27.043017Z",
     "start_time": "2025-09-19T14:15:27.039157Z"
    }
   },
   "cell_type": "code",
   "source": [
    "marks = {\n",
    "    \"ali\": 92,\n",
    "    \"sara\": 51,\n",
    "    \"omer\": 67,\n",
    "    \"fatima\": 10\n",
    "}\n",
    "max=marks[\"ali\"]\n",
    "for key in marks:\n",
    "    if marks[key] > max:\n",
    "        max=marks[key]\n",
    "for key in marks:\n",
    "    if marks[key] == max:\n",
    "        print(f\"{key} has the higest mark: {marks[key]}\")"
   ],
   "id": "c2db1dbfbb7007f9",
   "outputs": [
    {
     "name": "stdout",
     "output_type": "stream",
     "text": [
      "ali has the higest mark: 92\n"
     ]
    }
   ],
   "execution_count": 45
  },
  {
   "metadata": {
    "ExecuteTime": {
     "end_time": "2025-09-19T14:15:38.739158Z",
     "start_time": "2025-09-19T14:15:38.734377Z"
    }
   },
   "cell_type": "code",
   "source": [
    "marks = {\n",
    "    \"ali\": 92,\n",
    "    \"sara\": 51,\n",
    "    \"omer\": 67,\n",
    "    \"fatima\": 10\n",
    "}\n",
    "min = marks[\"ali\"]\n",
    "for key in marks:\n",
    "    if marks[key] < max:\n",
    "        max=marks[key]\n",
    "for key in marks:\n",
    "    if marks[key] == max:\n",
    "        print(f\"{key} has the lowest mark: {marks[key]}\")"
   ],
   "id": "ec1ddf6aaf1c71c7",
   "outputs": [
    {
     "name": "stdout",
     "output_type": "stream",
     "text": [
      "fatima has the lowest mark: 10\n"
     ]
    }
   ],
   "execution_count": 47
  },
  {
   "metadata": {
    "ExecuteTime": {
     "end_time": "2025-09-19T14:32:03.349746Z",
     "start_time": "2025-09-19T14:32:03.346159Z"
    }
   },
   "cell_type": "code",
   "source": [
    "marks = {\n",
    "    \"ali\": 92,\n",
    "    \"sara\": 51,\n",
    "    \"omer\": 67,\n",
    "    \"fatima\": 10\n",
    "}\n",
    "min = marks[\"ali\"]\n",
    "for key in marks:\n",
    "    if marks[key] < max:\n",
    "        max=marks[key]\n",
    "    if marks[key] == max:\n",
    "          print(f\"{key} has the lowest mark: {marks[key]}\")"
   ],
   "id": "cd65438d60d59ae5",
   "outputs": [
    {
     "name": "stdout",
     "output_type": "stream",
     "text": [
      "fatima has the lowest mark: 10\n"
     ]
    }
   ],
   "execution_count": 77
  },
  {
   "metadata": {
    "ExecuteTime": {
     "end_time": "2025-09-22T13:01:00.505530Z",
     "start_time": "2025-09-22T13:01:00.501764Z"
    }
   },
   "cell_type": "code",
   "source": [
    "class cat:\n",
    "    def basic(self ):\n",
    "     self.name = \"cat\"\n",
    "     self.breed=\"parsion\"\n",
    "     self.age =12\n",
    "    def info(self):\n",
    "        print(\"name is \", self.name)\n",
    "        print(\"breed is \", self.breed)\n",
    "        print(\"age is \", self.age)\n",
    "p1=cat()\n",
    "p1.basic()\n",
    "p1.info()\n",
    "\n"
   ],
   "id": "5c0923794a686111",
   "outputs": [
    {
     "name": "stdout",
     "output_type": "stream",
     "text": [
      "name is  cat\n",
      "breed is  parsion\n",
      "age is  12\n"
     ]
    }
   ],
   "execution_count": 7
  },
  {
   "metadata": {},
   "cell_type": "markdown",
   "source": [
    "Single Inheritance\n",
    "parent → child\n"
   ],
   "id": "b5c9b661caf1e0d4"
  },
  {
   "metadata": {
    "ExecuteTime": {
     "end_time": "2025-09-22T13:36:55.201577Z",
     "start_time": "2025-09-22T13:36:55.196600Z"
    }
   },
   "cell_type": "code",
   "source": [
    "class Cat:\n",
    "    def __init__(self,name,breed,age ):\n",
    "        self.name = name\n",
    "        self.breed = breed\n",
    "        self.age = age\n",
    "\n",
    "    def info(self):\n",
    "        print(\"Name is\", self.name, \"Breed is\", self.breed, \"Age is\", self.age)\n",
    "\n",
    "\n",
    "\n",
    "# Dog inherits from Cat\n",
    "class Dog(Cat):\n",
    "    def __init__(self,name,breed,age):\n",
    "        #super().__init__(name)   # call parent constructor\n",
    "        self.name = name\n",
    "        self.breed = breed\n",
    "        self.age = age\n",
    "\n",
    "# Create objects\n",
    "p1 = Cat(\"cat\",\"parsion\",12)\n",
    "p1.info()   # Output: Name is cat\n",
    "\n",
    "p2 = Dog(\"dog\",\"huskey\",12)\n",
    "p2.info()   # Output: Name is husky\n"
   ],
   "id": "2e597f9f2debe046",
   "outputs": [
    {
     "name": "stdout",
     "output_type": "stream",
     "text": [
      "Name is cat Breed is parsion Age is 12\n",
      "Name is dog Breed is huskey Age is 12\n"
     ]
    }
   ],
   "execution_count": 43
  },
  {
   "metadata": {},
   "cell_type": "markdown",
   "source": [
    "Multilevel Inheritance\n",
    "Child → Parent → Grandparent"
   ],
   "id": "8a1ae7beab08b831"
  },
  {
   "metadata": {
    "ExecuteTime": {
     "end_time": "2025-09-22T13:50:10.849860Z",
     "start_time": "2025-09-22T13:50:10.842827Z"
    }
   },
   "cell_type": "code",
   "source": [
    "class Cat:\n",
    "    def eat(self, name):\n",
    "        self.name = name\n",
    "        print(\"Animal eats food.\")\n",
    "\n",
    "class Dog(Cat):\n",
    "    def barks(self, name):\n",
    "        self.name = name\n",
    "        print(\"Dog barks.\")\n",
    "\n",
    "class Puppy(Dog):  # use correct case (Dog, not dog)\n",
    "    def loves(self, name):\n",
    "        self.name = name\n",
    "        print(\"Puppy loves playing!\")\n",
    "\n",
    "\n",
    "# Create object\n",
    "p1 = Puppy()\n",
    "p1.eat(\"cat\")     # from Cat\n",
    "p1.barks(\"dog\")   # from Dog\n",
    "p1.loves(\"puppy\") # from Puppy\n"
   ],
   "id": "985cfd5dc29ea88c",
   "outputs": [
    {
     "name": "stdout",
     "output_type": "stream",
     "text": [
      "Animal eats food.\n",
      "Dog barks.\n",
      "Puppy loves playing!\n"
     ]
    }
   ],
   "execution_count": 52
  },
  {
   "metadata": {
    "ExecuteTime": {
     "end_time": "2025-09-23T13:13:58.916312Z",
     "start_time": "2025-09-23T13:13:58.910557Z"
    }
   },
   "cell_type": "code",
   "source": [
    "class employee:\n",
    "    count = 0\n",
    "    def __init__(self):\n",
    "        employee.count= employee.count+1\n",
    "        self.name = \"Ali\"\n",
    "        self.id = employee.count\n",
    "        self.hire_year = 2020\n",
    "    def display(self):\n",
    "        print(\"name:\", self.name, \"id:\", self.id,\"year:\", self.hire_year)\n",
    "class developer(employee):\n",
    "    def __init__(self,):\n",
    "        employee.count=employee.count+1\n",
    "        self.id= employee.count\n",
    "        self.name = \"Ammar\"\n",
    "        self.hire_year = 2020\n",
    "        self.skill=[\"python\",\"java\",\"c++\"]\n",
    "    def display(self):\n",
    "        print(\"name:\", self.name, \"id:\", self.id,\"year:\", self.hire_year)\n",
    "p1=employee()\n",
    "p1.display()\n",
    "p2=developer()\n",
    "p2.display()\n",
    "\n",
    "\n"
   ],
   "id": "bc2d67834cea10cc",
   "outputs": [
    {
     "name": "stdout",
     "output_type": "stream",
     "text": [
      "name: Ali id: 1 year: 2020\n",
      "name: Ammar id: 2 year: 2020\n"
     ]
    }
   ],
   "execution_count": 11
  },
  {
   "metadata": {
    "ExecuteTime": {
     "end_time": "2025-09-23T14:33:30.997896Z",
     "start_time": "2025-09-23T14:33:30.989316Z"
    }
   },
   "cell_type": "code",
   "source": [
    "class person:\n",
    "    def __init__(self,name,age):\n",
    "        self.name = name\n",
    "        self.age =age\n",
    "    def show_personal_info(self):\n",
    "         print(\"name:\",self.name, \"age:\",self.age)\n",
    "\n",
    "class employee :\n",
    "    def __init__(self,employee_id,department):\n",
    "        self.employee_id= employee_id\n",
    "        self.department = department\n",
    "    def show_employee_info(self):\n",
    "        print(\"employee_id\",self.employee_id,\"department:\", self.department)\n",
    "\n",
    "class skills :\n",
    "    def __init__(self):\n",
    "        self.skill = []\n",
    "    def add_skill (self,skill):\n",
    "        self.skill.append(skill)\n",
    "    def show(self):\n",
    "        print(\" Skills:\",self.skill)\n",
    "\n",
    "class manager(person,employee,skills):\n",
    "    def __init__(self,name,age,employee_id,department,team_size):\n",
    "        person.__init__(self,name,age)\n",
    "        employee.__init__(self,employee_id,department)\n",
    "        skills.__init__(self)\n",
    "        self.team_size = team_size\n",
    "    def show_full_info(self):\n",
    "        self.show_personal_info()\n",
    "        self.show_employee_info()\n",
    "        print(\"team size:\",self.team_size)\n",
    "\n",
    "class developer(person,employee,skills):\n",
    "    def __init__(self,name,age,employee_id,department,programming_language):\n",
    "        person.__init__(self,name,age)\n",
    "        employee.__init__(self,employee_id,department)\n",
    "        skills.__init__(self)\n",
    "        self.programming_language = programming_language\n",
    "    def show_full_info(self):\n",
    "        self.show_personal_info()\n",
    "        self.show_employee_info()\n",
    "        self.show()\n",
    "\n",
    "\n",
    "p4=manager(\"ali\",21,\"mt01\",\"hr\",10)\n",
    "p4.add_skill(\"java\")\n",
    "p4.show_full_info()\n",
    "\n",
    "p5=developer(\"haris\",25,\"dd05\",\"finance\",12)\n",
    "p5.add_skill(\"c++\")\n",
    "p5.show_full_info()\n",
    "\n",
    "\n",
    "\n"
   ],
   "id": "21274df8d80e3f3c",
   "outputs": [
    {
     "name": "stdout",
     "output_type": "stream",
     "text": [
      "name: ali age: 21\n",
      "employee_id mt01 department: hr\n",
      "team size: 10\n",
      "name: haris age: 25\n",
      "employee_id dd05 department: finance\n",
      " Skills: ['c++']\n"
     ]
    }
   ],
   "execution_count": 45
  },
  {
   "metadata": {
    "ExecuteTime": {
     "end_time": "2025-09-24T13:22:13.088371Z",
     "start_time": "2025-09-24T13:22:13.079334Z"
    }
   },
   "cell_type": "code",
   "source": [
    "class person:\n",
    "    def __init__(self, name, age, employee_id=None, department=None):\n",
    "        self.name = name\n",
    "        self.age = age\n",
    "        super().__init__()\n",
    "    def show_personal_info(self):\n",
    "         print(\"name:\",self.name, \"age:\",self.age)\n",
    "\n",
    "class employee(person):\n",
    "    def __init__(self, name, age, employee_id, department):\n",
    "        super().__init__(name, age, employee_id, department)\n",
    "        self.employee_id = employee_id\n",
    "        self.department = department\n",
    "    def show_employee_info(self):\n",
    "        print(\"employee_id\",self.employee_id,\"department:\", self.department)\n",
    "\n",
    "class skills:\n",
    "    def __init__(self, name, age, employee_id, department):\n",
    "        self.skill = []\n",
    "        super().__init__(name, age, employee_id, department)\n",
    "    def add_skill(self, skill):\n",
    "        self.skill.append(skill)\n",
    "    def show(self):\n",
    "        print(\" Skills:\",self.skill)\n",
    "\n",
    "class manager(skills, employee):\n",
    "    def __init__(self, name, age, employee_id, department, team_size):\n",
    "        super().__init__(name, age, employee_id, department)\n",
    "        self.team_size = team_size\n",
    "    def show_full_info(self):\n",
    "        self.show_personal_info()\n",
    "        self.show_employee_info()\n",
    "        print(\"team size:\",self.team_size)\n",
    "        self.show()\n",
    "\n",
    "class developer(skills, employee):\n",
    "    def __init__(self, name, age, employee_id, department, programming_language):\n",
    "        super().__init__(name, age, employee_id, department)\n",
    "        self.programming_language = programming_language\n",
    "    def show_full_info(self):\n",
    "        self.show_personal_info()\n",
    "        self.show_employee_info()\n",
    "        self.show()\n",
    "        print(\"programming_language:\", self.programming_language)\n",
    "\n",
    "p4 = manager(\"ali\", 21, \"mt01\", \"hr\", 10)\n",
    "p4.add_skill(\"java\")\n",
    "p4.show_full_info()\n",
    "\n",
    "p5 = developer(\"haris\", 25, \"dd05\", \"finance\", 12)\n",
    "p5.add_skill(\"c++\")\n",
    "p5.show_full_info()\n"
   ],
   "id": "511d15e535a0c308",
   "outputs": [
    {
     "name": "stdout",
     "output_type": "stream",
     "text": [
      "name: ali age: 21\n",
      "employee_id mt01 department: hr\n",
      "team size: 10\n",
      " Skills: ['java']\n",
      "name: haris age: 25\n",
      "employee_id dd05 department: finance\n",
      " Skills: ['c++']\n",
      "programming_language: 12\n"
     ]
    }
   ],
   "execution_count": 17
  },
  {
   "metadata": {},
   "cell_type": "markdown",
   "source": "single level inhertience",
   "id": "9b33b05794ad6812"
  },
  {
   "metadata": {
    "ExecuteTime": {
     "end_time": "2025-09-29T12:55:03.503919Z",
     "start_time": "2025-09-29T12:55:03.184889Z"
    }
   },
   "cell_type": "code",
   "source": [
    "class person:\n",
    "    def __init__(self, name, age, employee_id=None, department=None):\n",
    "        self.name = name\n",
    "        self.age = age\n",
    "        super().__init__()\n",
    "    def show_personal_info(self):\n",
    "         print(\"name:\",self.name, \"age:\",self.age)\n",
    "class student(person):\n",
    "    def __init__(self, name, age, student_id, course):\n",
    "        person.__init__(self, name, age)\n",
    "        self.student_id = student_id\n",
    "        self.course = course\n",
    "    def show_personal_info(self):\n",
    "        print(\"student_id:\",self.student_id, \"course:\",self.course)\n",
    "class teacher(student):\n",
    "    def __init__(self, name, age,enploye_id,subject):\n",
    "        student.__init__(self, name, age)\n",
    "        self.enploye_id = enploye_id\n",
    "        self.subject = subject\n",
    "    def show_personal_info(self):\n",
    "        print(\"enploye_id:\",self.enploye_id, \"subject:\",self.subject)\n",
    "\n",
    "p1=teacher()\n",
    "p1.show_personal_info()\n",
    "\n",
    "\n",
    "\n"
   ],
   "id": "ad497931386be6ef",
   "outputs": [
    {
     "ename": "TypeError",
     "evalue": "teacher.__init__() missing 4 required positional arguments: 'name', 'age', 'enploye_id', and 'subject'",
     "output_type": "error",
     "traceback": [
      "\u001B[31m---------------------------------------------------------------------------\u001B[39m",
      "\u001B[31mTypeError\u001B[39m                                 Traceback (most recent call last)",
      "\u001B[36mCell\u001B[39m\u001B[36m \u001B[39m\u001B[32mIn[1]\u001B[39m\u001B[32m, line 23\u001B[39m\n\u001B[32m     20\u001B[39m     \u001B[38;5;28;01mdef\u001B[39;00m\u001B[38;5;250m \u001B[39m\u001B[34mshow_personal_info\u001B[39m(\u001B[38;5;28mself\u001B[39m):\n\u001B[32m     21\u001B[39m         \u001B[38;5;28mprint\u001B[39m(\u001B[33m\"\u001B[39m\u001B[33menploye_id:\u001B[39m\u001B[33m\"\u001B[39m,\u001B[38;5;28mself\u001B[39m.enploye_id, \u001B[33m\"\u001B[39m\u001B[33msubject:\u001B[39m\u001B[33m\"\u001B[39m,\u001B[38;5;28mself\u001B[39m.subject)\n\u001B[32m---> \u001B[39m\u001B[32m23\u001B[39m p1=\u001B[43mteacher\u001B[49m\u001B[43m(\u001B[49m\u001B[43m)\u001B[49m\n\u001B[32m     24\u001B[39m p1.show_personal_info()\n",
      "\u001B[31mTypeError\u001B[39m: teacher.__init__() missing 4 required positional arguments: 'name', 'age', 'enploye_id', and 'subject'"
     ]
    }
   ],
   "execution_count": 1
  }
 ],
 "metadata": {
  "kernelspec": {
   "display_name": "Python 3",
   "language": "python",
   "name": "python3"
  },
  "language_info": {
   "codemirror_mode": {
    "name": "ipython",
    "version": 2
   },
   "file_extension": ".py",
   "mimetype": "text/x-python",
   "name": "python",
   "nbconvert_exporter": "python",
   "pygments_lexer": "ipython2",
   "version": "2.7.6"
  }
 },
 "nbformat": 4,
 "nbformat_minor": 5
}
