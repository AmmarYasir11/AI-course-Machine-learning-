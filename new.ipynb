{
 "cells": [
  {
   "cell_type": "code",
   "id": "initial_id",
   "metadata": {
    "collapsed": true,
    "ExecuteTime": {
     "end_time": "2025-09-19T14:34:19.666196Z",
     "start_time": "2025-09-19T14:34:19.662459Z"
    }
   },
   "source": [
    "from narwhals import DataFrame\n",
    "from pandas.io.sql import pandasSQL_builder\n",
    "from sklearn.externals.array_api_compat.torch import multiply\n",
    "from streamlit import columns\n",
    "\n",
    "marks = {\n",
    "    \"ali\": 92,\n",
    "    \"sara\": 51,\n",
    "    \"omer\": 67,\n",
    "    \"fatima\": 10\n",
    "}\n",
    "z=max(marks.values())\n",
    "print(z)"
   ],
   "outputs": [
    {
     "name": "stdout",
     "output_type": "stream",
     "text": [
      "92\n"
     ]
    }
   ],
   "execution_count": 2
  },
  {
   "metadata": {
    "ExecuteTime": {
     "end_time": "2025-09-19T14:35:01.362929Z",
     "start_time": "2025-09-19T14:35:01.359329Z"
    }
   },
   "cell_type": "code",
   "source": [
    "marks = {\n",
    "    \"ali\": 92,\n",
    "    \"sara\": 51,\n",
    "    \"omer\": 67,\n",
    "    \"fatima\": 10\n",
    "}\n",
    "z=min(marks.values())\n",
    "print(z)"
   ],
   "id": "1968a43d2a98f19c",
   "outputs": [
    {
     "name": "stdout",
     "output_type": "stream",
     "text": [
      "10\n"
     ]
    }
   ],
   "execution_count": 3
  },
  {
   "metadata": {
    "ExecuteTime": {
     "end_time": "2025-09-24T13:49:53.529245Z",
     "start_time": "2025-09-24T13:49:53.524196Z"
    }
   },
   "cell_type": "code",
   "source": [
    "class person:\n",
    "    def __init__(self, name, age, employee_id=None, department=None):\n",
    "        self.name = name\n",
    "        self.age = age\n",
    "        super().__init__()\n",
    "    def show_personal_info(self):\n",
    "         print(\"name:\",self.name, \"age:\",self.age)\n",
    "class student(person):\n",
    "    def __init__(self, name, age, student_id, course):\n",
    "        person.__init__(self, name, age)\n",
    "        self.student_id = student_id\n",
    "        self.course = course\n",
    "    def show_personal_info(self):\n",
    "        print(\"student_id:\",self.student_id, \"course:\",self.course)\n",
    "class teacher(person):\n",
    "    def __init__(self, name, age,enployee_id,subject):\n",
    "        person.__init__(self, name, age)\n",
    "        self.enploye_id = enployee_id\n",
    "        self.subject = subject\n",
    "    def show_personal_info(self):\n",
    "        print(\"teacher_id:\",self.enploye_id, \"subject:\",self.subject)\n",
    "\n",
    "\n",
    "p1=student(\"Ali\",18,\"1210\",\"IT\")\n",
    "p1.show_personal_info()\n",
    "p2=teacher(\"Ammar\",21,\"ed01\",\"maths\")\n",
    "p2.show_personal_info()\n",
    "\n",
    "\n",
    "\n"
   ],
   "id": "a5f4c94c40c1d697",
   "outputs": [
    {
     "name": "stdout",
     "output_type": "stream",
     "text": [
      "student_id: 1210 course: IT\n",
      "teacher_id: ed01 subject: maths\n"
     ]
    }
   ],
   "execution_count": 19
  },
  {
   "metadata": {},
   "cell_type": "markdown",
   "source": "multilevel inhertience",
   "id": "a264a1d097ed68e7"
  },
  {
   "metadata": {
    "ExecuteTime": {
     "end_time": "2025-09-24T14:17:54.392355Z",
     "start_time": "2025-09-24T14:17:54.387029Z"
    }
   },
   "cell_type": "code",
   "source": [
    "class person:\n",
    "    def __init__(self, name, age, employee_id=None, department=None):\n",
    "        self.name = name\n",
    "        self.age = age\n",
    "    def show_personal_info(self):\n",
    "         print(\"name:\",self.name, \"age:\",self.age)\n",
    "\n",
    "class student(person):\n",
    "    def __init__(self, name, age, course):\n",
    "        super().__init__(name, age)\n",
    "        self.course = course\n",
    "\n",
    "    def show_personal_info(self):\n",
    "        print(\"course:\",self.course)\n",
    "\n",
    "\n",
    "class graduate(student):\n",
    "    def __init__(self, name, age, student_id,course, subject):\n",
    "        super().__init__(name, age, course)\n",
    "        self.student_id = student_id\n",
    "        self.subject = subject\n",
    "    def show_personal_info(self):\n",
    "        print( \"name\",self.name,\n",
    "               \"age\",self.age,\n",
    "               \"student_id\",self.student_id,\n",
    "               \"subject:\",self.subject)\n",
    "\n",
    "\n",
    "p1 = graduate(\"Ammar\", 21, \"ed01\", \"IT\", \"Maths\")\n",
    "p1.show_personal_info()\n",
    "\n",
    "\n",
    "\n"
   ],
   "id": "16343d8ad021e103",
   "outputs": [
    {
     "name": "stdout",
     "output_type": "stream",
     "text": [
      "name Ammar age 21 student_id ed01 subject: Maths\n"
     ]
    }
   ],
   "execution_count": 40
  },
  {
   "metadata": {},
   "cell_type": "markdown",
   "source": "multiple inhertience",
   "id": "e7e27e1a63a8b504"
  },
  {
   "metadata": {
    "ExecuteTime": {
     "end_time": "2025-09-24T14:35:30.298002Z",
     "start_time": "2025-09-24T14:35:30.292582Z"
    }
   },
   "cell_type": "code",
   "source": [
    "class student():\n",
    "    def __init__(self, name, course):\n",
    "        self.name = name\n",
    "        self.course = course\n",
    "    def show_personal_info(self):\n",
    "        print(\"name:\",self.name, \"course:\",self.course)\n",
    "\n",
    "class sports():\n",
    "    def __init__(self, name, course,club):\n",
    "        self.name = name\n",
    "        self.course = course\n",
    "        self.club = club\n",
    "    def show_personal_info(self):\n",
    "        print(\"club:\",self.club)\n",
    "\n",
    "\n",
    "class scholarAthlete(student,sports):\n",
    "    def __init__(self, name, course, department,club):\n",
    "        student.__init__(self, name, course)\n",
    "        sports.__init__(self, name, course,club)\n",
    "        self.department = department\n",
    "\n",
    "    def show_personal_info(self):\n",
    "        print(\"name:\",self.name, \"course:\",self.course, \"department:\",self.department,\"club:\",self.club)\n",
    "\n",
    "p1=scholarAthlete(\"Ammar\",\"it\",\"cs\",\"golf\")\n",
    "p1.show_personal_info()\n"
   ],
   "id": "c0fc38412b8c3d93",
   "outputs": [
    {
     "name": "stdout",
     "output_type": "stream",
     "text": [
      "name: Ammar course: it department: cs club: golf\n"
     ]
    }
   ],
   "execution_count": 53
  },
  {
   "metadata": {},
   "cell_type": "markdown",
   "source": "hierachical inhertience",
   "id": "5aeb64a566928c0d"
  },
  {
   "metadata": {
    "ExecuteTime": {
     "end_time": "2025-09-24T14:45:21.623911Z",
     "start_time": "2025-09-24T14:45:21.619004Z"
    }
   },
   "cell_type": "code",
   "source": [
    "class person():\n",
    "    def __init__(self, name, age,subject,department):\n",
    "        self.name = name\n",
    "        self.age = age\n",
    "        self.subject = subject\n",
    "        self.department = department\n",
    "    def show_personal_info(self):\n",
    "        print( \"name is:\",self.name,\"age is:\",self.age,\"department:\",self.department)\n",
    "\n",
    "\n",
    "class teacher(person):\n",
    "    def __init__(self, name, age,subject):\n",
    "        person.__init__(self, name, age)\n",
    "        self.subject = subject\n",
    "\n",
    "    def show_personal_info(self):\n",
    "        print(\"subject:\",self.subject)\n",
    "\n",
    "\n",
    "\n",
    "class student(person):\n",
    "    def __init__(self, name, age, department):\n",
    "        person.__init__(self, name, age)\n",
    "        self.department = department\n",
    "\n",
    "    def show_personal_info(self):\n",
    "        print( \"name is:\",self.name,\"age is:\",self.age,\"department:\",self.department)\n",
    "\n",
    "\n",
    "p1=person(\"Ammar\",21,\"computer_science\",\"cs\")\n",
    "p1.show_personal_info()\n"
   ],
   "id": "16e206cef82ee052",
   "outputs": [
    {
     "name": "stdout",
     "output_type": "stream",
     "text": [
      "name is: Ammar age is: 21 department: cs\n"
     ]
    }
   ],
   "execution_count": 60
  },
  {
   "metadata": {},
   "cell_type": "markdown",
   "source": "numpy",
   "id": "914837c99d43c79d"
  },
  {
   "metadata": {
    "ExecuteTime": {
     "end_time": "2025-09-29T13:36:44.315452Z",
     "start_time": "2025-09-29T13:36:44.311051Z"
    }
   },
   "cell_type": "code",
   "source": [
    "import numpy as np\n",
    "arr=np.array([[1,2,2],\n",
    "              [3,4,5]])\n",
    "print(arr)\n",
    "print(arr.shape)\n",
    "print(arr.dtype)\n",
    "print(arr.ndim)\n",
    "print(arr.size)"
   ],
   "id": "c2cb218b0d5a109e",
   "outputs": [
    {
     "name": "stdout",
     "output_type": "stream",
     "text": [
      "[[1 2 2]\n",
      " [3 4 5]]\n",
      "(2, 3)\n",
      "int64\n",
      "2\n",
      "6\n"
     ]
    }
   ],
   "execution_count": 10
  },
  {
   "metadata": {
    "ExecuteTime": {
     "end_time": "2025-09-29T13:40:08.665566Z",
     "start_time": "2025-09-29T13:40:08.635628Z"
    }
   },
   "cell_type": "code",
   "source": [
    "import numpy as np\n",
    "ar1=np.array([[1,2,2],[3,4,5]])\n",
    "ar2=np.array([[1,2,2],[3,4,8]])\n",
    "a= multiply(ar1,ar2)\n",
    "print(a)\n",
    "\n"
   ],
   "id": "aea29c49be841c32",
   "outputs": [
    {
     "ename": "NameError",
     "evalue": "name 'multiply' is not defined",
     "output_type": "error",
     "traceback": [
      "\u001B[31m---------------------------------------------------------------------------\u001B[39m",
      "\u001B[31mNameError\u001B[39m                                 Traceback (most recent call last)",
      "\u001B[36mCell\u001B[39m\u001B[36m \u001B[39m\u001B[32mIn[14]\u001B[39m\u001B[32m, line 4\u001B[39m\n\u001B[32m      2\u001B[39m ar1=np.array([[\u001B[32m1\u001B[39m,\u001B[32m2\u001B[39m,\u001B[32m2\u001B[39m],[\u001B[32m3\u001B[39m,\u001B[32m4\u001B[39m,\u001B[32m5\u001B[39m]])\n\u001B[32m      3\u001B[39m ar2=np.array([[\u001B[32m1\u001B[39m,\u001B[32m2\u001B[39m,\u001B[32m2\u001B[39m],[\u001B[32m3\u001B[39m,\u001B[32m4\u001B[39m,\u001B[32m8\u001B[39m]])\n\u001B[32m----> \u001B[39m\u001B[32m4\u001B[39m a= \u001B[43mmultiply\u001B[49m(ar1,ar2)\n\u001B[32m      5\u001B[39m \u001B[38;5;28mprint\u001B[39m(a)\n",
      "\u001B[31mNameError\u001B[39m: name 'multiply' is not defined"
     ]
    }
   ],
   "execution_count": 14
  },
  {
   "metadata": {},
   "cell_type": "markdown",
   "source": "pandas:dataframes",
   "id": "f4df4869cd0baf58"
  },
  {
   "metadata": {
    "ExecuteTime": {
     "end_time": "2025-09-29T13:51:15.097727Z",
     "start_time": "2025-09-29T13:51:15.066920Z"
    }
   },
   "cell_type": "code",
   "source": [
    "import pandas as pd\n",
    "data={\n",
    "    \"name\":[\"Ammar\",\"yasir\",\"Ali\"],\n",
    "    \"age\":[25,12,25],\n",
    "    \"city\":[\"islamabad\",\"lahore\",\"karachi\"]\n",
    "}\n",
    "df=pd.DataFrame(data)\n",
    "print(df)\n",
    "\n"
   ],
   "id": "747b259d0299f5ce",
   "outputs": [
    {
     "name": "stdout",
     "output_type": "stream",
     "text": [
      "    name  age       city\n",
      "0  Ammar   25  islamabad\n",
      "1  yasir   12     lahore\n",
      "2    Ali   25    karachi\n"
     ]
    }
   ],
   "execution_count": 20
  },
  {
   "metadata": {},
   "cell_type": "code",
   "outputs": [],
   "execution_count": null,
   "source": [
    "import pandas as pd\n",
    "data={\n",
    "    \"name\":[\"Ammar\",\"yasir\",\"Ali\"],\n",
    "    \"age\":[25,12,25],\n",
    "    \"city\":[\"islamabad\",\"lahore\",\"karachi\"]\n",
    "}\n",
    "df=pd.DataFrame(data)\n",
    "print(df)\n",
    "\n"
   ],
   "id": "4a7473e1d54a7b56"
  },
  {
   "metadata": {
    "ExecuteTime": {
     "end_time": "2025-09-29T14:18:17.656440Z",
     "start_time": "2025-09-29T14:18:17.645696Z"
    }
   },
   "cell_type": "code",
   "source": [
    "import pandas as pd\n",
    "df=pd.read_csv(\"datasets/employees.csv\")\n",
    "df.head()"
   ],
   "id": "4c46bb306302943e",
   "outputs": [
    {
     "data": {
      "text/plain": [
       "   EmployeeID    Name Department       Role       City  Salary    JoinDate  \\\n",
       "0           1     Ali         IT  Assistant  Islamabad  126893  2024-11-03   \n",
       "1           2  Maryam  Marketing    Manager  Islamabad  132235  2025-01-10   \n",
       "2           3   Bilal  Marketing  Assistant   Peshawar   56798  2022-08-10   \n",
       "3           4    Sara    Finance    Manager  Islamabad   84926  2024-04-08   \n",
       "4           5   Bilal         IT  Assistant    Karachi   71511  2024-02-10   \n",
       "\n",
       "   Age  \n",
       "0   36  \n",
       "1   43  \n",
       "2   24  \n",
       "3   26  \n",
       "4   51  "
      ],
      "text/html": [
       "<div>\n",
       "<style scoped>\n",
       "    .dataframe tbody tr th:only-of-type {\n",
       "        vertical-align: middle;\n",
       "    }\n",
       "\n",
       "    .dataframe tbody tr th {\n",
       "        vertical-align: top;\n",
       "    }\n",
       "\n",
       "    .dataframe thead th {\n",
       "        text-align: right;\n",
       "    }\n",
       "</style>\n",
       "<table border=\"1\" class=\"dataframe\">\n",
       "  <thead>\n",
       "    <tr style=\"text-align: right;\">\n",
       "      <th></th>\n",
       "      <th>EmployeeID</th>\n",
       "      <th>Name</th>\n",
       "      <th>Department</th>\n",
       "      <th>Role</th>\n",
       "      <th>City</th>\n",
       "      <th>Salary</th>\n",
       "      <th>JoinDate</th>\n",
       "      <th>Age</th>\n",
       "    </tr>\n",
       "  </thead>\n",
       "  <tbody>\n",
       "    <tr>\n",
       "      <th>0</th>\n",
       "      <td>1</td>\n",
       "      <td>Ali</td>\n",
       "      <td>IT</td>\n",
       "      <td>Assistant</td>\n",
       "      <td>Islamabad</td>\n",
       "      <td>126893</td>\n",
       "      <td>2024-11-03</td>\n",
       "      <td>36</td>\n",
       "    </tr>\n",
       "    <tr>\n",
       "      <th>1</th>\n",
       "      <td>2</td>\n",
       "      <td>Maryam</td>\n",
       "      <td>Marketing</td>\n",
       "      <td>Manager</td>\n",
       "      <td>Islamabad</td>\n",
       "      <td>132235</td>\n",
       "      <td>2025-01-10</td>\n",
       "      <td>43</td>\n",
       "    </tr>\n",
       "    <tr>\n",
       "      <th>2</th>\n",
       "      <td>3</td>\n",
       "      <td>Bilal</td>\n",
       "      <td>Marketing</td>\n",
       "      <td>Assistant</td>\n",
       "      <td>Peshawar</td>\n",
       "      <td>56798</td>\n",
       "      <td>2022-08-10</td>\n",
       "      <td>24</td>\n",
       "    </tr>\n",
       "    <tr>\n",
       "      <th>3</th>\n",
       "      <td>4</td>\n",
       "      <td>Sara</td>\n",
       "      <td>Finance</td>\n",
       "      <td>Manager</td>\n",
       "      <td>Islamabad</td>\n",
       "      <td>84926</td>\n",
       "      <td>2024-04-08</td>\n",
       "      <td>26</td>\n",
       "    </tr>\n",
       "    <tr>\n",
       "      <th>4</th>\n",
       "      <td>5</td>\n",
       "      <td>Bilal</td>\n",
       "      <td>IT</td>\n",
       "      <td>Assistant</td>\n",
       "      <td>Karachi</td>\n",
       "      <td>71511</td>\n",
       "      <td>2024-02-10</td>\n",
       "      <td>51</td>\n",
       "    </tr>\n",
       "  </tbody>\n",
       "</table>\n",
       "</div>"
      ]
     },
     "execution_count": 49,
     "metadata": {},
     "output_type": "execute_result"
    }
   ],
   "execution_count": 49
  },
  {
   "metadata": {
    "ExecuteTime": {
     "end_time": "2025-09-29T14:15:39.053592Z",
     "start_time": "2025-09-29T14:15:39.044843Z"
    }
   },
   "cell_type": "code",
   "source": "df.tail()",
   "id": "f798166895052c5a",
   "outputs": [
    {
     "data": {
      "text/plain": [
       "    EmployeeID    Name  Department       Role        City  Salary    JoinDate  \\\n",
       "45          46   Bilal          IT  Assistant     Karachi   69365  2025-04-08   \n",
       "46          47    Zara     Finance  Assistant  Faisalabad  145965  2022-09-30   \n",
       "47          48   Usman       Sales  Assistant     Karachi   82509  2023-04-14   \n",
       "48          49  Fatima  Operations  Assistant     Karachi   43047  2020-12-07   \n",
       "49          50  Hassan  Operations  Team Lead   Islamabad   53209  2022-09-20   \n",
       "\n",
       "    Age  \n",
       "45   51  \n",
       "46   42  \n",
       "47   22  \n",
       "48   53  \n",
       "49   55  "
      ],
      "text/html": [
       "<div>\n",
       "<style scoped>\n",
       "    .dataframe tbody tr th:only-of-type {\n",
       "        vertical-align: middle;\n",
       "    }\n",
       "\n",
       "    .dataframe tbody tr th {\n",
       "        vertical-align: top;\n",
       "    }\n",
       "\n",
       "    .dataframe thead th {\n",
       "        text-align: right;\n",
       "    }\n",
       "</style>\n",
       "<table border=\"1\" class=\"dataframe\">\n",
       "  <thead>\n",
       "    <tr style=\"text-align: right;\">\n",
       "      <th></th>\n",
       "      <th>EmployeeID</th>\n",
       "      <th>Name</th>\n",
       "      <th>Department</th>\n",
       "      <th>Role</th>\n",
       "      <th>City</th>\n",
       "      <th>Salary</th>\n",
       "      <th>JoinDate</th>\n",
       "      <th>Age</th>\n",
       "    </tr>\n",
       "  </thead>\n",
       "  <tbody>\n",
       "    <tr>\n",
       "      <th>45</th>\n",
       "      <td>46</td>\n",
       "      <td>Bilal</td>\n",
       "      <td>IT</td>\n",
       "      <td>Assistant</td>\n",
       "      <td>Karachi</td>\n",
       "      <td>69365</td>\n",
       "      <td>2025-04-08</td>\n",
       "      <td>51</td>\n",
       "    </tr>\n",
       "    <tr>\n",
       "      <th>46</th>\n",
       "      <td>47</td>\n",
       "      <td>Zara</td>\n",
       "      <td>Finance</td>\n",
       "      <td>Assistant</td>\n",
       "      <td>Faisalabad</td>\n",
       "      <td>145965</td>\n",
       "      <td>2022-09-30</td>\n",
       "      <td>42</td>\n",
       "    </tr>\n",
       "    <tr>\n",
       "      <th>47</th>\n",
       "      <td>48</td>\n",
       "      <td>Usman</td>\n",
       "      <td>Sales</td>\n",
       "      <td>Assistant</td>\n",
       "      <td>Karachi</td>\n",
       "      <td>82509</td>\n",
       "      <td>2023-04-14</td>\n",
       "      <td>22</td>\n",
       "    </tr>\n",
       "    <tr>\n",
       "      <th>48</th>\n",
       "      <td>49</td>\n",
       "      <td>Fatima</td>\n",
       "      <td>Operations</td>\n",
       "      <td>Assistant</td>\n",
       "      <td>Karachi</td>\n",
       "      <td>43047</td>\n",
       "      <td>2020-12-07</td>\n",
       "      <td>53</td>\n",
       "    </tr>\n",
       "    <tr>\n",
       "      <th>49</th>\n",
       "      <td>50</td>\n",
       "      <td>Hassan</td>\n",
       "      <td>Operations</td>\n",
       "      <td>Team Lead</td>\n",
       "      <td>Islamabad</td>\n",
       "      <td>53209</td>\n",
       "      <td>2022-09-20</td>\n",
       "      <td>55</td>\n",
       "    </tr>\n",
       "  </tbody>\n",
       "</table>\n",
       "</div>"
      ]
     },
     "execution_count": 42,
     "metadata": {},
     "output_type": "execute_result"
    }
   ],
   "execution_count": 42
  },
  {
   "metadata": {
    "ExecuteTime": {
     "end_time": "2025-09-29T14:15:52.562389Z",
     "start_time": "2025-09-29T14:15:52.546348Z"
    }
   },
   "cell_type": "code",
   "source": "df.describe()",
   "id": "76303e5a7e190702",
   "outputs": [
    {
     "data": {
      "text/plain": [
       "       EmployeeID         Salary        Age\n",
       "count    50.00000      50.000000  50.000000\n",
       "mean     25.50000   93857.000000  37.580000\n",
       "std      14.57738   32549.040491  11.226954\n",
       "min       1.00000   41052.000000  22.000000\n",
       "25%      13.25000   69137.750000  27.250000\n",
       "50%      25.50000   89075.500000  36.000000\n",
       "75%      37.75000  123995.500000  49.000000\n",
       "max      50.00000  145965.000000  55.000000"
      ],
      "text/html": [
       "<div>\n",
       "<style scoped>\n",
       "    .dataframe tbody tr th:only-of-type {\n",
       "        vertical-align: middle;\n",
       "    }\n",
       "\n",
       "    .dataframe tbody tr th {\n",
       "        vertical-align: top;\n",
       "    }\n",
       "\n",
       "    .dataframe thead th {\n",
       "        text-align: right;\n",
       "    }\n",
       "</style>\n",
       "<table border=\"1\" class=\"dataframe\">\n",
       "  <thead>\n",
       "    <tr style=\"text-align: right;\">\n",
       "      <th></th>\n",
       "      <th>EmployeeID</th>\n",
       "      <th>Salary</th>\n",
       "      <th>Age</th>\n",
       "    </tr>\n",
       "  </thead>\n",
       "  <tbody>\n",
       "    <tr>\n",
       "      <th>count</th>\n",
       "      <td>50.00000</td>\n",
       "      <td>50.000000</td>\n",
       "      <td>50.000000</td>\n",
       "    </tr>\n",
       "    <tr>\n",
       "      <th>mean</th>\n",
       "      <td>25.50000</td>\n",
       "      <td>93857.000000</td>\n",
       "      <td>37.580000</td>\n",
       "    </tr>\n",
       "    <tr>\n",
       "      <th>std</th>\n",
       "      <td>14.57738</td>\n",
       "      <td>32549.040491</td>\n",
       "      <td>11.226954</td>\n",
       "    </tr>\n",
       "    <tr>\n",
       "      <th>min</th>\n",
       "      <td>1.00000</td>\n",
       "      <td>41052.000000</td>\n",
       "      <td>22.000000</td>\n",
       "    </tr>\n",
       "    <tr>\n",
       "      <th>25%</th>\n",
       "      <td>13.25000</td>\n",
       "      <td>69137.750000</td>\n",
       "      <td>27.250000</td>\n",
       "    </tr>\n",
       "    <tr>\n",
       "      <th>50%</th>\n",
       "      <td>25.50000</td>\n",
       "      <td>89075.500000</td>\n",
       "      <td>36.000000</td>\n",
       "    </tr>\n",
       "    <tr>\n",
       "      <th>75%</th>\n",
       "      <td>37.75000</td>\n",
       "      <td>123995.500000</td>\n",
       "      <td>49.000000</td>\n",
       "    </tr>\n",
       "    <tr>\n",
       "      <th>max</th>\n",
       "      <td>50.00000</td>\n",
       "      <td>145965.000000</td>\n",
       "      <td>55.000000</td>\n",
       "    </tr>\n",
       "  </tbody>\n",
       "</table>\n",
       "</div>"
      ]
     },
     "execution_count": 43,
     "metadata": {},
     "output_type": "execute_result"
    }
   ],
   "execution_count": 43
  },
  {
   "metadata": {
    "ExecuteTime": {
     "end_time": "2025-09-29T14:31:45.457787Z",
     "start_time": "2025-09-29T14:31:45.446602Z"
    }
   },
   "cell_type": "code",
   "source": [
    "import pandas as pd\n",
    "df=pd.read_csv(\"C:/Users/user/PycharmProjects/PythonProject/datasets/unclean_data.csv\")\n",
    "df.head()"
   ],
   "id": "ec0ae4074a820053",
   "outputs": [
    {
     "data": {
      "text/plain": [
       "   EmployeeID      Name Department       Role       City  Salary    JoinDate  \\\n",
       "0         1.0     ali           IT  Assistant  Islamabad  126893  2024-11-03   \n",
       "1         2.0    MARYAM  Marketing    Manager  Islamabad  132235  2025-01-10   \n",
       "2    999999.0     Bilal  Marketing  Assistant   Peshawar   56798  2022-08-10   \n",
       "3         NaN      Sara    Finance    Manager  Islamabad   84926  2024-04-08   \n",
       "4         5.0     Bilal         IT  Assistant    Karachi   71511  2024-02-10   \n",
       "\n",
       "   Age  \n",
       "0   36  \n",
       "1   43  \n",
       "2   24  \n",
       "3   26  \n",
       "4   51  "
      ],
      "text/html": [
       "<div>\n",
       "<style scoped>\n",
       "    .dataframe tbody tr th:only-of-type {\n",
       "        vertical-align: middle;\n",
       "    }\n",
       "\n",
       "    .dataframe tbody tr th {\n",
       "        vertical-align: top;\n",
       "    }\n",
       "\n",
       "    .dataframe thead th {\n",
       "        text-align: right;\n",
       "    }\n",
       "</style>\n",
       "<table border=\"1\" class=\"dataframe\">\n",
       "  <thead>\n",
       "    <tr style=\"text-align: right;\">\n",
       "      <th></th>\n",
       "      <th>EmployeeID</th>\n",
       "      <th>Name</th>\n",
       "      <th>Department</th>\n",
       "      <th>Role</th>\n",
       "      <th>City</th>\n",
       "      <th>Salary</th>\n",
       "      <th>JoinDate</th>\n",
       "      <th>Age</th>\n",
       "    </tr>\n",
       "  </thead>\n",
       "  <tbody>\n",
       "    <tr>\n",
       "      <th>0</th>\n",
       "      <td>1.0</td>\n",
       "      <td>ali</td>\n",
       "      <td>IT</td>\n",
       "      <td>Assistant</td>\n",
       "      <td>Islamabad</td>\n",
       "      <td>126893</td>\n",
       "      <td>2024-11-03</td>\n",
       "      <td>36</td>\n",
       "    </tr>\n",
       "    <tr>\n",
       "      <th>1</th>\n",
       "      <td>2.0</td>\n",
       "      <td>MARYAM</td>\n",
       "      <td>Marketing</td>\n",
       "      <td>Manager</td>\n",
       "      <td>Islamabad</td>\n",
       "      <td>132235</td>\n",
       "      <td>2025-01-10</td>\n",
       "      <td>43</td>\n",
       "    </tr>\n",
       "    <tr>\n",
       "      <th>2</th>\n",
       "      <td>999999.0</td>\n",
       "      <td>Bilal</td>\n",
       "      <td>Marketing</td>\n",
       "      <td>Assistant</td>\n",
       "      <td>Peshawar</td>\n",
       "      <td>56798</td>\n",
       "      <td>2022-08-10</td>\n",
       "      <td>24</td>\n",
       "    </tr>\n",
       "    <tr>\n",
       "      <th>3</th>\n",
       "      <td>NaN</td>\n",
       "      <td>Sara</td>\n",
       "      <td>Finance</td>\n",
       "      <td>Manager</td>\n",
       "      <td>Islamabad</td>\n",
       "      <td>84926</td>\n",
       "      <td>2024-04-08</td>\n",
       "      <td>26</td>\n",
       "    </tr>\n",
       "    <tr>\n",
       "      <th>4</th>\n",
       "      <td>5.0</td>\n",
       "      <td>Bilal</td>\n",
       "      <td>IT</td>\n",
       "      <td>Assistant</td>\n",
       "      <td>Karachi</td>\n",
       "      <td>71511</td>\n",
       "      <td>2024-02-10</td>\n",
       "      <td>51</td>\n",
       "    </tr>\n",
       "  </tbody>\n",
       "</table>\n",
       "</div>"
      ]
     },
     "execution_count": 60,
     "metadata": {},
     "output_type": "execute_result"
    }
   ],
   "execution_count": 60
  },
  {
   "metadata": {
    "ExecuteTime": {
     "end_time": "2025-09-29T14:32:20.172088Z",
     "start_time": "2025-09-29T14:32:20.164699Z"
    }
   },
   "cell_type": "code",
   "source": "df.info()",
   "id": "37ec0d67a91053f5",
   "outputs": [
    {
     "name": "stdout",
     "output_type": "stream",
     "text": [
      "<class 'pandas.core.frame.DataFrame'>\n",
      "RangeIndex: 53 entries, 0 to 52\n",
      "Data columns (total 8 columns):\n",
      " #   Column      Non-Null Count  Dtype  \n",
      "---  ------      --------------  -----  \n",
      " 0   EmployeeID  48 non-null     float64\n",
      " 1   Name        48 non-null     object \n",
      " 2   Department  53 non-null     object \n",
      " 3   Role        53 non-null     object \n",
      " 4   City        53 non-null     object \n",
      " 5   Salary      53 non-null     int64  \n",
      " 6   JoinDate    53 non-null     object \n",
      " 7   Age         53 non-null     int64  \n",
      "dtypes: float64(1), int64(2), object(5)\n",
      "memory usage: 3.4+ KB\n"
     ]
    }
   ],
   "execution_count": 61
  },
  {
   "metadata": {
    "ExecuteTime": {
     "end_time": "2025-09-29T14:32:54.301480Z",
     "start_time": "2025-09-29T14:32:54.296777Z"
    }
   },
   "cell_type": "code",
   "source": "df.isnull().sum()",
   "id": "13afeedf72b9111e",
   "outputs": [
    {
     "data": {
      "text/plain": [
       "EmployeeID    5\n",
       "Name          5\n",
       "Department    0\n",
       "Role          0\n",
       "City          0\n",
       "Salary        0\n",
       "JoinDate      0\n",
       "Age           0\n",
       "dtype: int64"
      ]
     },
     "execution_count": 63,
     "metadata": {},
     "output_type": "execute_result"
    }
   ],
   "execution_count": 63
  },
  {
   "metadata": {
    "ExecuteTime": {
     "end_time": "2025-09-29T14:36:33.356206Z",
     "start_time": "2025-09-29T14:36:33.349662Z"
    }
   },
   "cell_type": "code",
   "source": [
    "df.fillna(\"null\",inplace=True)\n",
    "\n",
    "df.info()\n"
   ],
   "id": "2559e88f040c7580",
   "outputs": [
    {
     "name": "stdout",
     "output_type": "stream",
     "text": [
      "<class 'pandas.core.frame.DataFrame'>\n",
      "RangeIndex: 53 entries, 0 to 52\n",
      "Data columns (total 8 columns):\n",
      " #   Column      Non-Null Count  Dtype  \n",
      "---  ------      --------------  -----  \n",
      " 0   EmployeeID  53 non-null     float64\n",
      " 1   Name        53 non-null     object \n",
      " 2   Department  53 non-null     object \n",
      " 3   Role        53 non-null     object \n",
      " 4   City        53 non-null     object \n",
      " 5   Salary      53 non-null     int64  \n",
      " 6   JoinDate    53 non-null     object \n",
      " 7   Age         53 non-null     int64  \n",
      "dtypes: float64(1), int64(2), object(5)\n",
      "memory usage: 3.4+ KB\n"
     ]
    }
   ],
   "execution_count": 74
  },
  {
   "metadata": {
    "ExecuteTime": {
     "end_time": "2025-09-29T14:37:16.430820Z",
     "start_time": "2025-09-29T14:37:16.425141Z"
    }
   },
   "cell_type": "code",
   "source": "df.duplicated().sum()",
   "id": "c8cb55cf9d875f05",
   "outputs": [
    {
     "data": {
      "text/plain": [
       "np.int64(0)"
      ]
     },
     "execution_count": 76,
     "metadata": {},
     "output_type": "execute_result"
    }
   ],
   "execution_count": 76
  },
  {
   "metadata": {
    "ExecuteTime": {
     "end_time": "2025-09-29T15:00:48.217571Z",
     "start_time": "2025-09-29T15:00:48.210428Z"
    }
   },
   "cell_type": "code",
   "source": [
    "result= df[\n",
    "    (df[\"Name\"].str.contains(\"Bilal\")) &\n",
    "    ((df[\"Salary\"] >=50000) |\n",
    "    (df[\"City\"]==\"Islamabad\"))\n",
    "]\n",
    "print(result)\n"
   ],
   "id": "742cd89b1dbf1853",
   "outputs": [
    {
     "name": "stdout",
     "output_type": "stream",
     "text": [
      "    EmployeeID   Name Department       Role      City  Salary    JoinDate  Age\n",
      "2     999999.0  Bilal  Marketing  Assistant  Peshawar   56798  2022-08-10   24\n",
      "4          5.0  Bilal         IT  Assistant   Karachi   71511  2024-02-10   51\n",
      "28        29.0  Bilal    Finance  Assistant    Lahore  126747  2023-10-02   53\n",
      "30        31.0  Bilal  Marketing  Executive   Karachi   79631  2025-06-13   51\n",
      "45        46.0  Bilal         IT  Assistant   Karachi   69365  2025-04-08   51\n",
      "52         3.0  Bilal  Marketing  Assistant  Peshawar   56798  2022-08-10   24\n"
     ]
    }
   ],
   "execution_count": 122
  },
  {
   "metadata": {},
   "cell_type": "markdown",
   "source": "task 1:",
   "id": "d08e3579d3f8454c"
  },
  {
   "metadata": {
    "ExecuteTime": {
     "end_time": "2025-10-01T13:50:32.749897Z",
     "start_time": "2025-10-01T13:50:32.736171Z"
    }
   },
   "cell_type": "code",
   "source": [
    "import numpy as np\n",
    "import pandas as pd\n",
    "\n",
    "sales_data = np.array([\n",
    "    [3200, 2100, 4100, 2500],  # Jan\n",
    "    [2800, 1900, 3900, 2700],  # Feb\n",
    "    [3500, 2200, 4200, 2600],  # Mar\n",
    "    [3000, 2300, 4000, 2800],  # Apr\n",
    "    [3600, 2500, 4300, 2900],  # May\n",
    "    [4000, 2600, 4400, 3100],  # Jun\n",
    "    [3700, 2400, 4200, 3000],  # Jul\n",
    "    [3900, 2500, 4500, 3200],  # Aug\n",
    "    [4100, 2700, 4600, 3300],  # Sep\n",
    "    [4200, 2800, 4700, 3400],  # Oct\n",
    "    [4300, 2900, 4800, 3500],  # Nov\n",
    "    [4400, 3000, 4900, 3600],  # Dec\n",
    "])\n",
    "\n",
    "categories = [\"Electronics\", \"Clothing\", \"Groceries\", \"Furniture\"]\n",
    "months=[\"jan\",\"feb\",\"march\",\"april\",\"may\",\"june\",\"july\",\"august\",\"september\",\"october\",\"november\",\"december\"]\n",
    "print(\"Sales Data (12 months x 4 categories):\\n\")\n",
    "df1= pd.DataFrame(sales_data,columns=categories,index=months)\n",
    "print(df1)\n",
    "df= pd.DataFrame(df1.sum(axis=0),columns=[\"Total yearly sales\"])\n",
    "print(df)\n",
    "df2=pd.DataFrame(df1.mean(axis=1),columns=[\"Monthly Sales\"])\n",
    "print(df2)\n",
    "\n",
    "print(\"BEST AND WORST SALES OF THE MONTH\")\n",
    "monthly_sales = df1.sum(axis=1)\n",
    "print(monthly_sales)\n",
    "best_month=df1.sum(axis=1).idxmax()\n",
    "best_sales=df1.sum(axis=1).max()\n",
    "print(\"the best month is:\",best_month)\n",
    "print(\"the best month of sales is:\",best_sales)\n",
    "\n",
    "worst_month=df1.sum(axis=1).idxmax()\n",
    "worst_sales=df1.sum(axis=1).min()\n",
    "print(\"the worst month is:\",worst_month)\n",
    "print(\"the worst month of sales is:\",worst_sales)\n",
    "\n",
    "\n",
    "\n"
   ],
   "id": "a3496df89d92a5da",
   "outputs": [
    {
     "name": "stdout",
     "output_type": "stream",
     "text": [
      "Sales Data (12 months x 4 categories):\n",
      "\n",
      "           Electronics  Clothing  Groceries  Furniture\n",
      "jan               3200      2100       4100       2500\n",
      "feb               2800      1900       3900       2700\n",
      "march             3500      2200       4200       2600\n",
      "april             3000      2300       4000       2800\n",
      "may               3600      2500       4300       2900\n",
      "june              4000      2600       4400       3100\n",
      "july              3700      2400       4200       3000\n",
      "august            3900      2500       4500       3200\n",
      "september         4100      2700       4600       3300\n",
      "october           4200      2800       4700       3400\n",
      "november          4300      2900       4800       3500\n",
      "december          4400      3000       4900       3600\n",
      "             Total yearly sales\n",
      "Electronics               44700\n",
      "Clothing                  29900\n",
      "Groceries                 52600\n",
      "Furniture                 36600\n",
      "           Monthly Sales\n",
      "jan               2975.0\n",
      "feb               2825.0\n",
      "march             3125.0\n",
      "april             3025.0\n",
      "may               3325.0\n",
      "june              3525.0\n",
      "july              3325.0\n",
      "august            3525.0\n",
      "september         3675.0\n",
      "october           3775.0\n",
      "november          3875.0\n",
      "december          3975.0\n",
      "BEST AND WORST SALES OF THE MONTH\n",
      "jan          11900\n",
      "feb          11300\n",
      "march        12500\n",
      "april        12100\n",
      "may          13300\n",
      "june         14100\n",
      "july         13300\n",
      "august       14100\n",
      "september    14700\n",
      "october      15100\n",
      "november     15500\n",
      "december     15900\n",
      "dtype: int64\n",
      "the best month is: december\n",
      "the best month of sales is: 15900\n",
      "the worst month is: december\n",
      "the worst month of sales is: 11300\n"
     ]
    }
   ],
   "execution_count": 34
  },
  {
   "metadata": {},
   "cell_type": "code",
   "outputs": [],
   "execution_count": null,
   "source": "",
   "id": "a250e8689c620aea"
  },
  {
   "metadata": {},
   "cell_type": "markdown",
   "source": "metpllot",
   "id": "8744abb480b9c13a"
  },
  {
   "metadata": {
    "ExecuteTime": {
     "end_time": "2025-10-06T12:59:16.883526Z",
     "start_time": "2025-10-06T12:59:16.750614Z"
    }
   },
   "cell_type": "code",
   "source": [
    "import matplotlib.pyplot as plt\n",
    "\n",
    "x = [1, 2, 3, 4, 5]\n",
    "y = [10, 12, 5, 8, 7]\n",
    "\n",
    "plt.plot(x, y, color='green')\n",
    "plt.title(\"Sales Over Days\")\n",
    "plt.xlabel(\"Days\")\n",
    "plt.ylabel(\"Sales\")\n",
    "plt.show()\n"
   ],
   "id": "69c03ab43ee3878d",
   "outputs": [
    {
     "data": {
      "text/plain": [
       "<Figure size 640x480 with 1 Axes>"
      ],
      "image/png": "[encoded data removed]"
     },
     "metadata": {},
     "output_type": "display_data"
    }
   ],
   "execution_count": 2
  },
  {
   "metadata": {
    "ExecuteTime": {
     "end_time": "2025-10-07T12:47:53.038975Z",
     "start_time": "2025-10-07T12:47:51.567737Z"
    }
   },
   "cell_type": "code",
   "source": [
    "import numpy as np\n",
    "import pandas as pd\n",
    "import matplotlib.pyplot as plt\n",
    "\n",
    "sales_data = np.array([\n",
    "    [3200, 2100, 4100, 2500],  # Jan\n",
    "    [2800, 1900, 3900, 2700],  # Feb\n",
    "    [3500, 2200, 4200, 2600],  # Mar\n",
    "    [3000, 2300, 4000, 2800],  # Apr\n",
    "    [3600, 2500, 4300, 2900],  # May\n",
    "    [4000, 2600, 4400, 3100],  # Jun\n",
    "    [3700, 2400, 4200, 3000],  # Jul\n",
    "    [3900, 2500, 4500, 3200],  # Aug\n",
    "    [4100, 2700, 4600, 3300],  # Sep\n",
    "    [4200, 2800, 4700, 3400],  # Oct\n",
    "    [4300, 2900, 4800, 3500],  # Nov\n",
    "    [4400, 3000, 4900, 3600],  # Dec\n",
    "])\n",
    "\n",
    "categories = [\"Electronics\", \"Clothing\", \"Groceries\", \"Furniture\"]\n",
    "months=[\"jan\",\"feb\",\"march\",\"april\",\"may\",\"june\",\"july\",\"august\",\"september\",\"october\",\"november\",\"december\"]\n",
    "print(\"Sales Data (12 months x 4 categories):\\n\")\n",
    "df1= pd.DataFrame(sales_data,columns=categories,index=months)\n",
    "print(df1)\n",
    "x = np.arange(len(months))\n",
    "width = 0.2\n",
    "\n",
    "plt.figure(figsize=(12,6))\n",
    "for i in range(4):\n",
    "    plt.bar(x + i*width, sales_data[:, i], width)\n",
    "\n",
    "plt.xticks(x + width*1.5, months)\n",
    "plt.title(\"Monthly Sales Comparison by R \"\n",
    "          \"egion\")\n",
    "plt.xlabel(\"Month\")\n",
    "plt.ylabel(\"Sales\")\n",
    "plt.show()\n"
   ],
   "id": "4dffdd1c7f5105ad",
   "outputs": [
    {
     "name": "stdout",
     "output_type": "stream",
     "text": [
      "Sales Data (12 months x 4 categories):\n",
      "\n",
      "           Electronics  Clothing  Groceries  Furniture\n",
      "jan               3200      2100       4100       2500\n",
      "feb               2800      1900       3900       2700\n",
      "march             3500      2200       4200       2600\n",
      "april             3000      2300       4000       2800\n",
      "may               3600      2500       4300       2900\n",
      "june              4000      2600       4400       3100\n",
      "july              3700      2400       4200       3000\n",
      "august            3900      2500       4500       3200\n",
      "september         4100      2700       4600       3300\n",
      "october           4200      2800       4700       3400\n",
      "november          4300      2900       4800       3500\n",
      "december          4400      3000       4900       3600\n"
     ]
    },
    {
     "data": {
      "text/plain": [
       "<Figure size 1200x600 with 1 Axes>"
      ],
      "image/png": "[encoded data removed]"
     },
     "metadata": {},
     "output_type": "display_data"
    }
   ],
   "execution_count": 1
  },
  {
   "metadata": {
    "ExecuteTime": {
     "end_time": "2025-10-06T13:40:32.768997Z",
     "start_time": "2025-10-06T13:40:32.639012Z"
    }
   },
   "cell_type": "code",
   "source": [
    "import pandas as pd\n",
    "import matplotlib.pyplot as plt\n",
    "\n",
    "sales_data = np.array([\n",
    "    [3200, 2100, 4100, 2500],  # Jan\n",
    "    [2800, 1900, 3900, 2700],  # Feb\n",
    "    [3500, 2200, 4200, 2600],  # Mar\n",
    "    [3000, 2300, 4000, 2800],  # Apr\n",
    "    [3600, 2500, 4300, 2900],  # May\n",
    "    [4000, 2600, 4400, 3100],  # Jun\n",
    "    [3700, 2400, 4200, 3000],  # Jul\n",
    "    [3900, 2500, 4500, 3200],  # Aug\n",
    "    [4100, 2700, 4600, 3300],  # Sep\n",
    "    [4200, 2800, 4700, 3400],  # Oct\n",
    "    [4300, 2900, 4800, 3500],  # Nov\n",
    "    [4400, 3000, 4900, 3600],  # Dec\n",
    "])\n",
    "\n",
    "categories = [\"Electronics\", \"Clothing\", \"Groceries\", \"Furniture\"]\n",
    "months=[\"jan\",\"feb\",\"march\",\"april\",\"may\",\"june\",\"july\",\"august\",\"september\",\"october\",\"november\",\"december\"]\n",
    "print(\"Sales Data (12 months x 4 categories):\\n\")\n",
    "\n",
    "df1 = pd.DataFrame(sales_data, columns=categories, index=months)\n",
    "print(\"Sales Data (12 months x 4 categories):\\n\")\n",
    "print(df1)\n",
    "\n",
    "# Calculate total yearly sales per category\n",
    "df_yearly = pd.DataFrame(df1.sum(axis=0), columns=[\"Total Yearly Sales\"])\n",
    "print(\"\\nTotal Yearly Sales by Category:\\n\")\n",
    "print(df_yearly)\n",
    "\n",
    "# --- Visualization using bar chart ---\n",
    "plt.figure(figsize=(8,5))\n",
    "df_yearly[\"Total Yearly Sales\"].plot(kind='bar', color=['skyblue', 'orange', 'green', 'purple'])\n",
    "\n",
    "plt.title(\"Total Yearly Sales by Category\")\n",
    "plt.xlabel(\"Category\")\n",
    "plt.ylabel(\"Total Sales\")\n",
    "plt.grid(axis='y', linestyle='--', alpha=0.7)\n",
    "plt.tight_layout()\n",
    "plt.show()"
   ],
   "id": "562bee0041d7995f",
   "outputs": [
    {
     "name": "stdout",
     "output_type": "stream",
     "text": [
      "Sales Data (12 months x 4 categories):\n",
      "\n",
      "Sales Data (12 months x 4 categories):\n",
      "\n",
      "           Electronics  Clothing  Groceries  Furniture\n",
      "jan               3200      2100       4100       2500\n",
      "feb               2800      1900       3900       2700\n",
      "march             3500      2200       4200       2600\n",
      "april             3000      2300       4000       2800\n",
      "may               3600      2500       4300       2900\n",
      "june              4000      2600       4400       3100\n",
      "july              3700      2400       4200       3000\n",
      "august            3900      2500       4500       3200\n",
      "september         4100      2700       4600       3300\n",
      "october           4200      2800       4700       3400\n",
      "november          4300      2900       4800       3500\n",
      "december          4400      3000       4900       3600\n",
      "\n",
      "Total Yearly Sales by Category:\n",
      "\n",
      "             Total Yearly Sales\n",
      "Electronics               44700\n",
      "Clothing                  29900\n",
      "Groceries                 52600\n",
      "Furniture                 36600\n"
     ]
    },
    {
     "data": {
      "text/plain": [
       "<Figure size 800x500 with 1 Axes>"
      ],
      "image/png": "[encoded data removed]"
     },
     "metadata": {},
     "output_type": "display_data"
    }
   ],
   "execution_count": 14
  },
  {
   "metadata": {
    "ExecuteTime": {
     "end_time": "2025-10-06T14:15:28.275201Z",
     "start_time": "2025-10-06T14:15:28.258361Z"
    }
   },
   "cell_type": "code",
   "source": [
    "import pandas as pd\n",
    "import numpy as np\n",
    "import matplotlib.pyplot as plt\n",
    "\n",
    "df=pd.read_csv(\"C:/Users/user/PycharmProjects/PythonProject/datasets/climate_data.csv\")\n",
    "df.head(10)\n"
   ],
   "id": "20dfd1c2c687c14f",
   "outputs": [
    {
     "data": {
      "text/plain": [
       "         Date       City  AvgTemp  MaxTemp  MinTemp  Humidity  Rainfall  \\\n",
       "0  02/05/2003    Karachi     22.5     28.3     16.8        65       0.0   \n",
       "1  03/05/2003    Karachi     23.0     29.0     17.2        60       0.0   \n",
       "2  04/05/2003    Karachi     22.8     28.7     16.9        63       0.1   \n",
       "3         NaN     Lahore     15.2      NaN     10.3        70       1.5   \n",
       "4  06/05/2003     Lahore     16.5     21.0     11.5        72       0.8   \n",
       "5  07/05/2003     Lahore     15.8     20.4     10.9        68       2.0   \n",
       "6  08/05/2003  Islamabad     14.0     19.2      9.1        75       3.2   \n",
       "7         NaN  Islamabad      NaN     18.8      8.7        77       4.0   \n",
       "8  10/05/2003  Islamabad     14.2     19.0      9.3        74       2.8   \n",
       "9  11/05/2003    Karachi     23.1     29.3     17.4        62       0.0   \n",
       "\n",
       "  RecordedDate  Unnamed: 8  \n",
       "0          NaN         NaN  \n",
       "1   02/01/2024         NaN  \n",
       "2          NaN         NaN  \n",
       "3   04/01/2024         NaN  \n",
       "4          NaN         NaN  \n",
       "5   06/01/2024         NaN  \n",
       "6          NaN         NaN  \n",
       "7   08/01/2024         NaN  \n",
       "8   09/01/2024         NaN  \n",
       "9   10/01/2024         NaN  "
      ],
      "text/html": [
       "<div>\n",
       "<style scoped>\n",
       "    .dataframe tbody tr th:only-of-type {\n",
       "        vertical-align: middle;\n",
       "    }\n",
       "\n",
       "    .dataframe tbody tr th {\n",
       "        vertical-align: top;\n",
       "    }\n",
       "\n",
       "    .dataframe thead th {\n",
       "        text-align: right;\n",
       "    }\n",
       "</style>\n",
       "<table border=\"1\" class=\"dataframe\">\n",
       "  <thead>\n",
       "    <tr style=\"text-align: right;\">\n",
       "      <th></th>\n",
       "      <th>Date</th>\n",
       "      <th>City</th>\n",
       "      <th>AvgTemp</th>\n",
       "      <th>MaxTemp</th>\n",
       "      <th>MinTemp</th>\n",
       "      <th>Humidity</th>\n",
       "      <th>Rainfall</th>\n",
       "      <th>RecordedDate</th>\n",
       "      <th>Unnamed: 8</th>\n",
       "    </tr>\n",
       "  </thead>\n",
       "  <tbody>\n",
       "    <tr>\n",
       "      <th>0</th>\n",
       "      <td>02/05/2003</td>\n",
       "      <td>Karachi</td>\n",
       "      <td>22.5</td>\n",
       "      <td>28.3</td>\n",
       "      <td>16.8</td>\n",
       "      <td>65</td>\n",
       "      <td>0.0</td>\n",
       "      <td>NaN</td>\n",
       "      <td>NaN</td>\n",
       "    </tr>\n",
       "    <tr>\n",
       "      <th>1</th>\n",
       "      <td>03/05/2003</td>\n",
       "      <td>Karachi</td>\n",
       "      <td>23.0</td>\n",
       "      <td>29.0</td>\n",
       "      <td>17.2</td>\n",
       "      <td>60</td>\n",
       "      <td>0.0</td>\n",
       "      <td>02/01/2024</td>\n",
       "      <td>NaN</td>\n",
       "    </tr>\n",
       "    <tr>\n",
       "      <th>2</th>\n",
       "      <td>04/05/2003</td>\n",
       "      <td>Karachi</td>\n",
       "      <td>22.8</td>\n",
       "      <td>28.7</td>\n",
       "      <td>16.9</td>\n",
       "      <td>63</td>\n",
       "      <td>0.1</td>\n",
       "      <td>NaN</td>\n",
       "      <td>NaN</td>\n",
       "    </tr>\n",
       "    <tr>\n",
       "      <th>3</th>\n",
       "      <td>NaN</td>\n",
       "      <td>Lahore</td>\n",
       "      <td>15.2</td>\n",
       "      <td>NaN</td>\n",
       "      <td>10.3</td>\n",
       "      <td>70</td>\n",
       "      <td>1.5</td>\n",
       "      <td>04/01/2024</td>\n",
       "      <td>NaN</td>\n",
       "    </tr>\n",
       "    <tr>\n",
       "      <th>4</th>\n",
       "      <td>06/05/2003</td>\n",
       "      <td>Lahore</td>\n",
       "      <td>16.5</td>\n",
       "      <td>21.0</td>\n",
       "      <td>11.5</td>\n",
       "      <td>72</td>\n",
       "      <td>0.8</td>\n",
       "      <td>NaN</td>\n",
       "      <td>NaN</td>\n",
       "    </tr>\n",
       "    <tr>\n",
       "      <th>5</th>\n",
       "      <td>07/05/2003</td>\n",
       "      <td>Lahore</td>\n",
       "      <td>15.8</td>\n",
       "      <td>20.4</td>\n",
       "      <td>10.9</td>\n",
       "      <td>68</td>\n",
       "      <td>2.0</td>\n",
       "      <td>06/01/2024</td>\n",
       "      <td>NaN</td>\n",
       "    </tr>\n",
       "    <tr>\n",
       "      <th>6</th>\n",
       "      <td>08/05/2003</td>\n",
       "      <td>Islamabad</td>\n",
       "      <td>14.0</td>\n",
       "      <td>19.2</td>\n",
       "      <td>9.1</td>\n",
       "      <td>75</td>\n",
       "      <td>3.2</td>\n",
       "      <td>NaN</td>\n",
       "      <td>NaN</td>\n",
       "    </tr>\n",
       "    <tr>\n",
       "      <th>7</th>\n",
       "      <td>NaN</td>\n",
       "      <td>Islamabad</td>\n",
       "      <td>NaN</td>\n",
       "      <td>18.8</td>\n",
       "      <td>8.7</td>\n",
       "      <td>77</td>\n",
       "      <td>4.0</td>\n",
       "      <td>08/01/2024</td>\n",
       "      <td>NaN</td>\n",
       "    </tr>\n",
       "    <tr>\n",
       "      <th>8</th>\n",
       "      <td>10/05/2003</td>\n",
       "      <td>Islamabad</td>\n",
       "      <td>14.2</td>\n",
       "      <td>19.0</td>\n",
       "      <td>9.3</td>\n",
       "      <td>74</td>\n",
       "      <td>2.8</td>\n",
       "      <td>09/01/2024</td>\n",
       "      <td>NaN</td>\n",
       "    </tr>\n",
       "    <tr>\n",
       "      <th>9</th>\n",
       "      <td>11/05/2003</td>\n",
       "      <td>Karachi</td>\n",
       "      <td>23.1</td>\n",
       "      <td>29.3</td>\n",
       "      <td>17.4</td>\n",
       "      <td>62</td>\n",
       "      <td>0.0</td>\n",
       "      <td>10/01/2024</td>\n",
       "      <td>NaN</td>\n",
       "    </tr>\n",
       "  </tbody>\n",
       "</table>\n",
       "</div>"
      ]
     },
     "execution_count": 36,
     "metadata": {},
     "output_type": "execute_result"
    }
   ],
   "execution_count": 36
  },
  {
   "metadata": {
    "ExecuteTime": {
     "end_time": "2025-10-06T14:16:37.940017Z",
     "start_time": "2025-10-06T14:16:37.930835Z"
    }
   },
   "cell_type": "code",
   "source": [
    "import pandas as pd\n",
    "import numpy as np\n",
    "import matplotlib.pyplot as plt\n",
    "\n",
    "df=pd.read_csv(\"C:/Users/user/PycharmProjects/PythonProject/datasets/climate_data.csv\")\n",
    "df.info\n"
   ],
   "id": "aebd5238f7bfa3c0",
   "outputs": [
    {
     "data": {
      "text/plain": [
       "<bound method DataFrame.info of          Date       City  AvgTemp  MaxTemp  MinTemp  Humidity  Rainfall  \\\n",
       "0  02/05/2003    Karachi     22.5     28.3     16.8        65       0.0   \n",
       "1  03/05/2003    Karachi     23.0     29.0     17.2        60       0.0   \n",
       "2  04/05/2003    Karachi     22.8     28.7     16.9        63       0.1   \n",
       "3         NaN     Lahore     15.2      NaN     10.3        70       1.5   \n",
       "4  06/05/2003     Lahore     16.5     21.0     11.5        72       0.8   \n",
       "5  07/05/2003     Lahore     15.8     20.4     10.9        68       2.0   \n",
       "6  08/05/2003  Islamabad     14.0     19.2      9.1        75       3.2   \n",
       "7         NaN  Islamabad      NaN     18.8      8.7        77       4.0   \n",
       "8  10/05/2003  Islamabad     14.2     19.0      9.3        74       2.8   \n",
       "9  11/05/2003    Karachi     23.1     29.3     17.4        62       0.0   \n",
       "\n",
       "  RecordedDate  Unnamed: 8  \n",
       "0          NaN         NaN  \n",
       "1   02/01/2024         NaN  \n",
       "2          NaN         NaN  \n",
       "3   04/01/2024         NaN  \n",
       "4          NaN         NaN  \n",
       "5   06/01/2024         NaN  \n",
       "6          NaN         NaN  \n",
       "7   08/01/2024         NaN  \n",
       "8   09/01/2024         NaN  \n",
       "9   10/01/2024         NaN  >"
      ]
     },
     "execution_count": 42,
     "metadata": {},
     "output_type": "execute_result"
    }
   ],
   "execution_count": 42
  },
  {
   "metadata": {
    "ExecuteTime": {
     "end_time": "2025-10-06T14:16:33.952689Z",
     "start_time": "2025-10-06T14:16:33.948356Z"
    }
   },
   "cell_type": "code",
   "source": "df.shape",
   "id": "da6b702a3e4f455f",
   "outputs": [
    {
     "data": {
      "text/plain": [
       "(10, 9)"
      ]
     },
     "execution_count": 41,
     "metadata": {},
     "output_type": "execute_result"
    }
   ],
   "execution_count": 41
  },
  {
   "metadata": {
    "ExecuteTime": {
     "end_time": "2025-10-06T14:17:12.510780Z",
     "start_time": "2025-10-06T14:17:12.505586Z"
    }
   },
   "cell_type": "code",
   "source": "df.isnull().sum()",
   "id": "a723db04026abd15",
   "outputs": [
    {
     "data": {
      "text/plain": [
       "Date             2\n",
       "City             0\n",
       "AvgTemp          1\n",
       "MaxTemp          1\n",
       "MinTemp          0\n",
       "Humidity         0\n",
       "Rainfall         0\n",
       "RecordedDate     4\n",
       "Unnamed: 8      10\n",
       "dtype: int64"
      ]
     },
     "execution_count": 44,
     "metadata": {},
     "output_type": "execute_result"
    }
   ],
   "execution_count": 44
  },
  {
   "metadata": {
    "ExecuteTime": {
     "end_time": "2025-10-06T14:18:11.840605Z",
     "start_time": "2025-10-06T14:18:11.832482Z"
    }
   },
   "cell_type": "code",
   "source": [
    "df.fillna(df.isnull().mean(), inplace=True)\n",
    "df.isnull().sum()"
   ],
   "id": "ed2876728e9fdd24",
   "outputs": [
    {
     "data": {
      "text/plain": [
       "Date            0\n",
       "City            0\n",
       "AvgTemp         0\n",
       "MaxTemp         0\n",
       "MinTemp         0\n",
       "Humidity        0\n",
       "Rainfall        0\n",
       "RecordedDate    0\n",
       "Unnamed: 8      0\n",
       "dtype: int64"
      ]
     },
     "execution_count": 48,
     "metadata": {},
     "output_type": "execute_result"
    }
   ],
   "execution_count": 48
  },
  {
   "metadata": {
    "ExecuteTime": {
     "end_time": "2025-10-06T14:18:35.657152Z",
     "start_time": "2025-10-06T14:18:35.648125Z"
    }
   },
   "cell_type": "code",
   "source": "df.duplicated().sum()",
   "id": "d9a9f9ba5d1469ec",
   "outputs": [
    {
     "data": {
      "text/plain": [
       "np.int64(0)"
      ]
     },
     "execution_count": 49,
     "metadata": {},
     "output_type": "execute_result"
    }
   ],
   "execution_count": 49
  },
  {
   "metadata": {
    "ExecuteTime": {
     "end_time": "2025-10-06T14:27:31.789967Z",
     "start_time": "2025-10-06T14:27:31.749823Z"
    }
   },
   "cell_type": "code",
   "source": [
    "df=pd.read_csv(\"C:/Users/user/PycharmProjects/PythonProject/datasets/climate_data2.csv\")\n",
    "df"
   ],
   "id": "ae823737c5604139",
   "outputs": [
    {
     "data": {
      "text/plain": [
       "            Date      City  Temperature  Humidity  Rainfall\n",
       "0     2024-01-01   Karachi    25.973713        75      2.05\n",
       "1     2024-01-02   Karachi    20.893886        63       NaN\n",
       "2     2024-01-03   Karachi    27.181508        52      4.34\n",
       "3     2024-01-04   Karachi    34.184239        27      4.52\n",
       "4     2024-01-05   Karachi    20.126773        94       NaN\n",
       "...          ...       ...          ...       ...       ...\n",
       "1825  2024-12-27  Peshawar    25.535525        69       NaN\n",
       "1826  2024-12-28  Peshawar    13.276807        43      1.08\n",
       "1827  2024-12-29  Peshawar    33.287459        58       NaN\n",
       "1828  2024-12-30  Peshawar    21.211295        37      0.20\n",
       "1829  2024-12-31  Peshawar    22.150797        67      0.03\n",
       "\n",
       "[1830 rows x 5 columns]"
      ],
      "text/html": [
       "<div>\n",
       "<style scoped>\n",
       "    .dataframe tbody tr th:only-of-type {\n",
       "        vertical-align: middle;\n",
       "    }\n",
       "\n",
       "    .dataframe tbody tr th {\n",
       "        vertical-align: top;\n",
       "    }\n",
       "\n",
       "    .dataframe thead th {\n",
       "        text-align: right;\n",
       "    }\n",
       "</style>\n",
       "<table border=\"1\" class=\"dataframe\">\n",
       "  <thead>\n",
       "    <tr style=\"text-align: right;\">\n",
       "      <th></th>\n",
       "      <th>Date</th>\n",
       "      <th>City</th>\n",
       "      <th>Temperature</th>\n",
       "      <th>Humidity</th>\n",
       "      <th>Rainfall</th>\n",
       "    </tr>\n",
       "  </thead>\n",
       "  <tbody>\n",
       "    <tr>\n",
       "      <th>0</th>\n",
       "      <td>2024-01-01</td>\n",
       "      <td>Karachi</td>\n",
       "      <td>25.973713</td>\n",
       "      <td>75</td>\n",
       "      <td>2.05</td>\n",
       "    </tr>\n",
       "    <tr>\n",
       "      <th>1</th>\n",
       "      <td>2024-01-02</td>\n",
       "      <td>Karachi</td>\n",
       "      <td>20.893886</td>\n",
       "      <td>63</td>\n",
       "      <td>NaN</td>\n",
       "    </tr>\n",
       "    <tr>\n",
       "      <th>2</th>\n",
       "      <td>2024-01-03</td>\n",
       "      <td>Karachi</td>\n",
       "      <td>27.181508</td>\n",
       "      <td>52</td>\n",
       "      <td>4.34</td>\n",
       "    </tr>\n",
       "    <tr>\n",
       "      <th>3</th>\n",
       "      <td>2024-01-04</td>\n",
       "      <td>Karachi</td>\n",
       "      <td>34.184239</td>\n",
       "      <td>27</td>\n",
       "      <td>4.52</td>\n",
       "    </tr>\n",
       "    <tr>\n",
       "      <th>4</th>\n",
       "      <td>2024-01-05</td>\n",
       "      <td>Karachi</td>\n",
       "      <td>20.126773</td>\n",
       "      <td>94</td>\n",
       "      <td>NaN</td>\n",
       "    </tr>\n",
       "    <tr>\n",
       "      <th>...</th>\n",
       "      <td>...</td>\n",
       "      <td>...</td>\n",
       "      <td>...</td>\n",
       "      <td>...</td>\n",
       "      <td>...</td>\n",
       "    </tr>\n",
       "    <tr>\n",
       "      <th>1825</th>\n",
       "      <td>2024-12-27</td>\n",
       "      <td>Peshawar</td>\n",
       "      <td>25.535525</td>\n",
       "      <td>69</td>\n",
       "      <td>NaN</td>\n",
       "    </tr>\n",
       "    <tr>\n",
       "      <th>1826</th>\n",
       "      <td>2024-12-28</td>\n",
       "      <td>Peshawar</td>\n",
       "      <td>13.276807</td>\n",
       "      <td>43</td>\n",
       "      <td>1.08</td>\n",
       "    </tr>\n",
       "    <tr>\n",
       "      <th>1827</th>\n",
       "      <td>2024-12-29</td>\n",
       "      <td>Peshawar</td>\n",
       "      <td>33.287459</td>\n",
       "      <td>58</td>\n",
       "      <td>NaN</td>\n",
       "    </tr>\n",
       "    <tr>\n",
       "      <th>1828</th>\n",
       "      <td>2024-12-30</td>\n",
       "      <td>Peshawar</td>\n",
       "      <td>21.211295</td>\n",
       "      <td>37</td>\n",
       "      <td>0.20</td>\n",
       "    </tr>\n",
       "    <tr>\n",
       "      <th>1829</th>\n",
       "      <td>2024-12-31</td>\n",
       "      <td>Peshawar</td>\n",
       "      <td>22.150797</td>\n",
       "      <td>67</td>\n",
       "      <td>0.03</td>\n",
       "    </tr>\n",
       "  </tbody>\n",
       "</table>\n",
       "<p>1830 rows × 5 columns</p>\n",
       "</div>"
      ]
     },
     "execution_count": 62,
     "metadata": {},
     "output_type": "execute_result"
    }
   ],
   "execution_count": 62
  }
 ],
 "metadata": {
  "kernelspec": {
   "display_name": "Python 3",
   "language": "python",
   "name": "python3"
  },
  "language_info": {
   "codemirror_mode": {
    "name": "ipython",
    "version": 2
   },
   "file_extension": ".py",
   "mimetype": "text/x-python",
   "name": "python",
   "nbconvert_exporter": "python",
   "pygments_lexer": "ipython2",
   "version": "2.7.6"
  }
 },
 "nbformat": 4,
 "nbformat_minor": 5
}
