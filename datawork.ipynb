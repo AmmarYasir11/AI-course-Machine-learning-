{
 "cells": [
  {
   "cell_type": "code",
   "id": "initial_id",
   "metadata": {
    "collapsed": true,
    "ExecuteTime": {
     "end_time": "2025-10-06T14:40:20.488234Z",
     "start_time": "2025-10-06T14:40:20.475579Z"
    }
   },
   "source": [
    "import pandas as pd\n",
    "import numpy as np\n",
    "import matplotlib.pyplot as plt\n",
    "\n",
    "df=pd.read_csv('/datasets/climate_data2.csv')\n",
    "df.head(10)"
   ],
   "outputs": [
    {
     "data": {
      "text/plain": [
       "         Date     City  Temperature  Humidity  Rainfall\n",
       "0  2024-01-01  Karachi    25.973713        75      2.05\n",
       "1  2024-01-02  Karachi    20.893886        63       NaN\n",
       "2  2024-01-03  Karachi    27.181508        52      4.34\n",
       "3  2024-01-04  Karachi    34.184239        27      4.52\n",
       "4  2024-01-05  Karachi    20.126773        94       NaN\n",
       "5  2024-01-06  Karachi    20.126904        51      0.52\n",
       "6  2024-01-07  Karachi    34.633703        26      1.06\n",
       "7  2024-01-08  Karachi    28.139478        62      0.55\n",
       "8  2024-01-09  Karachi    18.244205        27      2.23\n",
       "9  2024-01-10  Karachi    26.340480        40      3.50"
      ],
      "text/html": [
       "<div>\n",
       "<style scoped>\n",
       "    .dataframe tbody tr th:only-of-type {\n",
       "        vertical-align: middle;\n",
       "    }\n",
       "\n",
       "    .dataframe tbody tr th {\n",
       "        vertical-align: top;\n",
       "    }\n",
       "\n",
       "    .dataframe thead th {\n",
       "        text-align: right;\n",
       "    }\n",
       "</style>\n",
       "<table border=\"1\" class=\"dataframe\">\n",
       "  <thead>\n",
       "    <tr style=\"text-align: right;\">\n",
       "      <th></th>\n",
       "      <th>Date</th>\n",
       "      <th>City</th>\n",
       "      <th>Temperature</th>\n",
       "      <th>Humidity</th>\n",
       "      <th>Rainfall</th>\n",
       "    </tr>\n",
       "  </thead>\n",
       "  <tbody>\n",
       "    <tr>\n",
       "      <th>0</th>\n",
       "      <td>2024-01-01</td>\n",
       "      <td>Karachi</td>\n",
       "      <td>25.973713</td>\n",
       "      <td>75</td>\n",
       "      <td>2.05</td>\n",
       "    </tr>\n",
       "    <tr>\n",
       "      <th>1</th>\n",
       "      <td>2024-01-02</td>\n",
       "      <td>Karachi</td>\n",
       "      <td>20.893886</td>\n",
       "      <td>63</td>\n",
       "      <td>NaN</td>\n",
       "    </tr>\n",
       "    <tr>\n",
       "      <th>2</th>\n",
       "      <td>2024-01-03</td>\n",
       "      <td>Karachi</td>\n",
       "      <td>27.181508</td>\n",
       "      <td>52</td>\n",
       "      <td>4.34</td>\n",
       "    </tr>\n",
       "    <tr>\n",
       "      <th>3</th>\n",
       "      <td>2024-01-04</td>\n",
       "      <td>Karachi</td>\n",
       "      <td>34.184239</td>\n",
       "      <td>27</td>\n",
       "      <td>4.52</td>\n",
       "    </tr>\n",
       "    <tr>\n",
       "      <th>4</th>\n",
       "      <td>2024-01-05</td>\n",
       "      <td>Karachi</td>\n",
       "      <td>20.126773</td>\n",
       "      <td>94</td>\n",
       "      <td>NaN</td>\n",
       "    </tr>\n",
       "    <tr>\n",
       "      <th>5</th>\n",
       "      <td>2024-01-06</td>\n",
       "      <td>Karachi</td>\n",
       "      <td>20.126904</td>\n",
       "      <td>51</td>\n",
       "      <td>0.52</td>\n",
       "    </tr>\n",
       "    <tr>\n",
       "      <th>6</th>\n",
       "      <td>2024-01-07</td>\n",
       "      <td>Karachi</td>\n",
       "      <td>34.633703</td>\n",
       "      <td>26</td>\n",
       "      <td>1.06</td>\n",
       "    </tr>\n",
       "    <tr>\n",
       "      <th>7</th>\n",
       "      <td>2024-01-08</td>\n",
       "      <td>Karachi</td>\n",
       "      <td>28.139478</td>\n",
       "      <td>62</td>\n",
       "      <td>0.55</td>\n",
       "    </tr>\n",
       "    <tr>\n",
       "      <th>8</th>\n",
       "      <td>2024-01-09</td>\n",
       "      <td>Karachi</td>\n",
       "      <td>18.244205</td>\n",
       "      <td>27</td>\n",
       "      <td>2.23</td>\n",
       "    </tr>\n",
       "    <tr>\n",
       "      <th>9</th>\n",
       "      <td>2024-01-10</td>\n",
       "      <td>Karachi</td>\n",
       "      <td>26.340480</td>\n",
       "      <td>40</td>\n",
       "      <td>3.50</td>\n",
       "    </tr>\n",
       "  </tbody>\n",
       "</table>\n",
       "</div>"
      ]
     },
     "execution_count": 31,
     "metadata": {},
     "output_type": "execute_result"
    }
   ],
   "execution_count": 31
  },
  {
   "metadata": {
    "ExecuteTime": {
     "end_time": "2025-10-06T14:40:23.036939Z",
     "start_time": "2025-10-06T14:40:23.031917Z"
    }
   },
   "cell_type": "code",
   "source": "df.isnull().sum()",
   "id": "669e260c31eba8f7",
   "outputs": [
    {
     "data": {
      "text/plain": [
       "Date             0\n",
       "City             0\n",
       "Temperature      0\n",
       "Humidity         0\n",
       "Rainfall       200\n",
       "dtype: int64"
      ]
     },
     "execution_count": 32,
     "metadata": {},
     "output_type": "execute_result"
    }
   ],
   "execution_count": 32
  },
  {
   "metadata": {
    "ExecuteTime": {
     "end_time": "2025-10-06T14:40:24.962794Z",
     "start_time": "2025-10-06T14:40:24.953649Z"
    }
   },
   "cell_type": "code",
   "source": [
    "df.fillna(df.isnull().mean(), inplace=True)\n",
    "df.isnull().sum()"
   ],
   "id": "1ecfa69c2176bb7c",
   "outputs": [
    {
     "data": {
      "text/plain": [
       "Date           0\n",
       "City           0\n",
       "Temperature    0\n",
       "Humidity       0\n",
       "Rainfall       0\n",
       "dtype: int64"
      ]
     },
     "execution_count": 33,
     "metadata": {},
     "output_type": "execute_result"
    }
   ],
   "execution_count": 33
  },
  {
   "metadata": {
    "ExecuteTime": {
     "end_time": "2025-10-06T14:40:27.922489Z",
     "start_time": "2025-10-06T14:40:27.916916Z"
    }
   },
   "cell_type": "code",
   "source": "df.duplicated().sum()",
   "id": "ef16699b8119e8dd",
   "outputs": [
    {
     "data": {
      "text/plain": [
       "np.int64(0)"
      ]
     },
     "execution_count": 34,
     "metadata": {},
     "output_type": "execute_result"
    }
   ],
   "execution_count": 34
  },
  {
   "metadata": {
    "ExecuteTime": {
     "end_time": "2025-10-06T14:41:14.382533Z",
     "start_time": "2025-10-06T14:41:14.372570Z"
    }
   },
   "cell_type": "code",
   "source": [
    "df['Datetime']=pd.to_datetime(df['Date'])\n",
    "df.set_index('Datetime',inplace=True)\n",
    "df.head(10)"
   ],
   "id": "f997884d89262be6",
   "outputs": [
    {
     "data": {
      "text/plain": [
       "                  Date     City  Temperature  Humidity  Rainfall\n",
       "Datetime                                                        \n",
       "2024-01-01  2024-01-01  Karachi    25.973713        75   2.05000\n",
       "2024-01-02  2024-01-02  Karachi    20.893886        63   0.10929\n",
       "2024-01-03  2024-01-03  Karachi    27.181508        52   4.34000\n",
       "2024-01-04  2024-01-04  Karachi    34.184239        27   4.52000\n",
       "2024-01-05  2024-01-05  Karachi    20.126773        94   0.10929\n",
       "2024-01-06  2024-01-06  Karachi    20.126904        51   0.52000\n",
       "2024-01-07  2024-01-07  Karachi    34.633703        26   1.06000\n",
       "2024-01-08  2024-01-08  Karachi    28.139478        62   0.55000\n",
       "2024-01-09  2024-01-09  Karachi    18.244205        27   2.23000\n",
       "2024-01-10  2024-01-10  Karachi    26.340480        40   3.50000"
      ],
      "text/html": [
       "<div>\n",
       "<style scoped>\n",
       "    .dataframe tbody tr th:only-of-type {\n",
       "        vertical-align: middle;\n",
       "    }\n",
       "\n",
       "    .dataframe tbody tr th {\n",
       "        vertical-align: top;\n",
       "    }\n",
       "\n",
       "    .dataframe thead th {\n",
       "        text-align: right;\n",
       "    }\n",
       "</style>\n",
       "<table border=\"1\" class=\"dataframe\">\n",
       "  <thead>\n",
       "    <tr style=\"text-align: right;\">\n",
       "      <th></th>\n",
       "      <th>Date</th>\n",
       "      <th>City</th>\n",
       "      <th>Temperature</th>\n",
       "      <th>Humidity</th>\n",
       "      <th>Rainfall</th>\n",
       "    </tr>\n",
       "    <tr>\n",
       "      <th>Datetime</th>\n",
       "      <th></th>\n",
       "      <th></th>\n",
       "      <th></th>\n",
       "      <th></th>\n",
       "      <th></th>\n",
       "    </tr>\n",
       "  </thead>\n",
       "  <tbody>\n",
       "    <tr>\n",
       "      <th>2024-01-01</th>\n",
       "      <td>2024-01-01</td>\n",
       "      <td>Karachi</td>\n",
       "      <td>25.973713</td>\n",
       "      <td>75</td>\n",
       "      <td>2.05000</td>\n",
       "    </tr>\n",
       "    <tr>\n",
       "      <th>2024-01-02</th>\n",
       "      <td>2024-01-02</td>\n",
       "      <td>Karachi</td>\n",
       "      <td>20.893886</td>\n",
       "      <td>63</td>\n",
       "      <td>0.10929</td>\n",
       "    </tr>\n",
       "    <tr>\n",
       "      <th>2024-01-03</th>\n",
       "      <td>2024-01-03</td>\n",
       "      <td>Karachi</td>\n",
       "      <td>27.181508</td>\n",
       "      <td>52</td>\n",
       "      <td>4.34000</td>\n",
       "    </tr>\n",
       "    <tr>\n",
       "      <th>2024-01-04</th>\n",
       "      <td>2024-01-04</td>\n",
       "      <td>Karachi</td>\n",
       "      <td>34.184239</td>\n",
       "      <td>27</td>\n",
       "      <td>4.52000</td>\n",
       "    </tr>\n",
       "    <tr>\n",
       "      <th>2024-01-05</th>\n",
       "      <td>2024-01-05</td>\n",
       "      <td>Karachi</td>\n",
       "      <td>20.126773</td>\n",
       "      <td>94</td>\n",
       "      <td>0.10929</td>\n",
       "    </tr>\n",
       "    <tr>\n",
       "      <th>2024-01-06</th>\n",
       "      <td>2024-01-06</td>\n",
       "      <td>Karachi</td>\n",
       "      <td>20.126904</td>\n",
       "      <td>51</td>\n",
       "      <td>0.52000</td>\n",
       "    </tr>\n",
       "    <tr>\n",
       "      <th>2024-01-07</th>\n",
       "      <td>2024-01-07</td>\n",
       "      <td>Karachi</td>\n",
       "      <td>34.633703</td>\n",
       "      <td>26</td>\n",
       "      <td>1.06000</td>\n",
       "    </tr>\n",
       "    <tr>\n",
       "      <th>2024-01-08</th>\n",
       "      <td>2024-01-08</td>\n",
       "      <td>Karachi</td>\n",
       "      <td>28.139478</td>\n",
       "      <td>62</td>\n",
       "      <td>0.55000</td>\n",
       "    </tr>\n",
       "    <tr>\n",
       "      <th>2024-01-09</th>\n",
       "      <td>2024-01-09</td>\n",
       "      <td>Karachi</td>\n",
       "      <td>18.244205</td>\n",
       "      <td>27</td>\n",
       "      <td>2.23000</td>\n",
       "    </tr>\n",
       "    <tr>\n",
       "      <th>2024-01-10</th>\n",
       "      <td>2024-01-10</td>\n",
       "      <td>Karachi</td>\n",
       "      <td>26.340480</td>\n",
       "      <td>40</td>\n",
       "      <td>3.50000</td>\n",
       "    </tr>\n",
       "  </tbody>\n",
       "</table>\n",
       "</div>"
      ]
     },
     "execution_count": 38,
     "metadata": {},
     "output_type": "execute_result"
    }
   ],
   "execution_count": 38
  },
  {
   "metadata": {
    "ExecuteTime": {
     "end_time": "2025-10-06T14:49:46.087349Z",
     "start_time": "2025-10-06T14:49:46.075532Z"
    }
   },
   "cell_type": "code",
   "source": [
    "import pandas as pd\n",
    "\n",
    "# Load your dataset\n",
    "df = pd.read_csv(\"/datasets/climate_data2.csv\")\n",
    "\n",
    "# Mean (average)\n",
    "mean_values = df.mean(numeric_only=True)\n",
    "\n",
    "# Median (middle value)\n",
    "median_values = df.median(numeric_only=True)\n",
    "\n",
    "# Mode (most frequent value)\n",
    "mode_values = df.mode(numeric_only=True).iloc[0]\n",
    "\n",
    "print(\"Mean:\\n\", mean_values)\n",
    "print(\"\\nMedian:\\n\", median_values)\n",
    "print(\"\\nMode:\\n\", mode_values)\n"
   ],
   "id": "bf3f1bf101aab2a0",
   "outputs": [
    {
     "name": "stdout",
     "output_type": "stream",
     "text": [
      "Mean:\n",
      " Temperature    29.867139\n",
      "Humidity       60.280874\n",
      "Rainfall        2.002393\n",
      "dtype: float64\n",
      "\n",
      "Median:\n",
      " Temperature    29.804762\n",
      "Humidity       60.000000\n",
      "Rainfall        1.350000\n",
      "dtype: float64\n",
      "\n",
      "Mode:\n",
      " Temperature    -1.170043\n",
      "Humidity       83.000000\n",
      "Rainfall        0.080000\n",
      "Name: 0, dtype: float64\n"
     ]
    }
   ],
   "execution_count": 46
  },
  {
   "metadata": {
    "ExecuteTime": {
     "end_time": "2025-10-06T14:55:21.719567Z",
     "start_time": "2025-10-06T14:55:21.702230Z"
    }
   },
   "cell_type": "code",
   "source": [
    "import pandas as pd\n",
    "\n",
    "df = pd.read_csv(\"/datasets/climate_data2.csv\")\n",
    "\n",
    "# Get unique city names\n",
    "cities = df[\"City\"].unique()\n",
    "\n",
    "# ---------- MEAN ----------\n",
    "print(\"=== Mean Temperature for Each City ===\")\n",
    "for city in cities:\n",
    "    mean_temp = df[df[\"City\"] == city][\"Temperature\"].mean()\n",
    "    print(f\"{city}: {mean_temp:.2f}\")\n",
    "print(\"----------------------------------------\")\n",
    "\n",
    "# ---------- MEDIAN ----------\n",
    "print(\"=== Median Temperature for Each City ===\")\n",
    "for city in cities:\n",
    "    median_temp = df[df[\"City\"] == city][\"Temperature\"].median()\n",
    "    print(f\"{city}: {median_temp:.2f}\")\n",
    "print(\"----------------------------------------\")\n",
    "\n",
    "# ---------- MODE ----------\n",
    "print(\"=== Mode Temperature for Each City ===\")\n",
    "for city in cities:\n",
    "    mode_series = df[df[\"City\"] == city][\"Temperature\"].mode()\n",
    "    mode_temp = mode_series.iloc[0] if not mode_series.empty else None\n",
    "    print(f\"{city}: {mode_temp:.2f}\" if mode_temp is not None else f\"{city}: No mode found\")\n",
    "print(\"----------------------------------------\")\n"
   ],
   "id": "e5f8f2fdd39e3cbf",
   "outputs": [
    {
     "name": "stdout",
     "output_type": "stream",
     "text": [
      "=== Mean Temperature for Each City ===\n",
      "Karachi: 29.59\n",
      "Lahore: 29.21\n",
      "Islamabad: 30.51\n",
      "Quetta: 30.16\n",
      "Peshawar: 29.87\n",
      "----------------------------------------\n",
      "=== Median Temperature for Each City ===\n",
      "Karachi: 29.69\n",
      "Lahore: 29.15\n",
      "Islamabad: 30.24\n",
      "Quetta: 30.30\n",
      "Peshawar: 29.84\n",
      "----------------------------------------\n",
      "=== Mode Temperature for Each City ===\n",
      "Karachi: 4.07\n",
      "Lahore: 5.01\n",
      "Islamabad: 6.01\n",
      "Quetta: -1.17\n",
      "Peshawar: 4.79\n",
      "----------------------------------------\n"
     ]
    }
   ],
   "execution_count": 48
  }
 ],
 "metadata": {
  "kernelspec": {
   "display_name": "Python 3",
   "language": "python",
   "name": "python3"
  },
  "language_info": {
   "codemirror_mode": {
    "name": "ipython",
    "version": 2
   },
   "file_extension": ".py",
   "mimetype": "text/x-python",
   "name": "python",
   "nbconvert_exporter": "python",
   "pygments_lexer": "ipython2",
   "version": "2.7.6"
  }
 },
 "nbformat": 4,
 "nbformat_minor": 5
}
